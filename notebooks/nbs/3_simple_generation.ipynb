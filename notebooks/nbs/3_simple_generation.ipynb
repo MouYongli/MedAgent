{
 "cells": [
  {
   "cell_type": "markdown",
   "id": "4938a0296d903c04",
   "metadata": {},
   "source": [
    "# Demo for MedAgent - First answer generation with only generator\n",
    "This is the manual testing playground to test some basic workflows later properly implemented in the MedAgent repository.\n",
    "\n",
    "This file is responsible for a first test of answer generation (basically creating the first baseline for our system test). This means, answers are generated only with a generator. Further, a test for feedback gathering is established and the results analyzed and visualized."
   ]
  },
  {
   "cell_type": "markdown",
   "id": "18a44cccf07173bb",
   "metadata": {},
   "source": [
    "## Test out answer submission"
   ]
  },
  {
   "cell_type": "code",
   "execution_count": 14,
   "id": "dc1e0332855cb3be",
   "metadata": {},
   "outputs": [
    {
     "name": "stdout",
     "output_type": "stream",
     "text": [
      "### QUESTION: ###\n",
      "Wann ist die dreidimensionale Bildgebung bei der Entfernung von Weisheitszähnen indiziert?\n",
      "--------------------------------------------------\n",
      "### ANSWER in 4.00 seconds: ###\n",
      "Die dreidimensionale Bildgebung, insbesondere die digitale Volumentomographie (DVT), ist bei der Entfernung von Weisheitszähnen in bestimmten Situationen indiziert, vor allem wenn:\n",
      "\n",
      "1. **Komplexe anatomische Verhältnisse vorliegen**: Wenn sich die Weisheitszähne in der Nähe von wichtigen anatomischen Strukturen wie Nerven oder Kieferhöhlen befinden (z. B. der Unterkiefernerv), kann eine 3D-Bildgebung helfen, die genaue Position und den Verlauf dieser Strukturen zu bestimmen.\n",
      "\n",
      "2. **Zahnimpaktion**: Bei impaktierten Weisheitszähnen, die sich in ungünstigen Positionen befinden, kann die dreidimensionale Bildgebung eine bessere Beurteilung der Nachbarzähne und der Wurzelanatomie ermöglichen.\n",
      "\n",
      "3. **Kieferanomalien**: Bei Patienten mit Kieferanomalien oder Vorbelastungen (z. B. vorangegangenen chirurgischen Eingriffen oder Verletzungen) kann die 3D-Bildgebung zusätzliche Informationen liefern, die für die Planung des Eingriffs wichtig sind.\n",
      "\n",
      "4. **Vorherige Röntgenanalysen waren unklar**: Wenn die 2D-Röntgenbilder (z. B. Panoramaröntgen) keine ausreichenden Informationen liefern, um eine sichere und effektive chirurgische Planung durchzuführen.\n",
      "\n",
      "5. **Zusätzliche pathologische Befunde**: Wenn der Verdacht auf zusätzliche pathologische Veränderungen (wie Zysten oder Tumore) besteht, kann eine 3D-Bildgebung zur besseren Diagnostik beitragen.\n",
      "\n",
      "Insgesamt ist die Entscheidung für eine dreidimensionale Bildgebung immer im Kontext des Einzelfalls und in Absprache zwischen dem behandelnden Zahnarzt oder Kieferchirurgen und dem Patienten zu treffen.\n"
     ]
    }
   ],
   "source": [
    "azure_generator_only_wf = dbi.get_entry(CollectionName.WORKFLOW_SYSTEMS, \"name\", azure_generator_only_config[\"name\"])\n",
    "if azure_generator_only_wf is None:\n",
    "    azure_generator_only_wf_id = init_workflow(BACKEND_API_URL, azure_generator_only_config)\n",
    "else:\n",
    "    azure_generator_only_wf_id = dbi.document_to_workflow_system(azure_generator_only_wf).workflow_id\n",
    "    azure_generator_only_wf_id = init_workflow_with_id(BACKEND_API_URL, azure_generator_only_config, azure_generator_only_wf_id)\n",
    "\n",
    "azure_generator_only_chat = init_chat(BACKEND_API_URL, azure_generator_only_wf_id)\n",
    "question = dbi.get_collection(CollectionName.QUESTIONS).find_one().get(\"question\")\n",
    "answer, response_latency = pose_question(BACKEND_API_URL, azure_generator_only_chat, question)\n",
    "\n",
    "print(f\"### QUESTION: ###\\n{question}\")\n",
    "print(f\"--------------------------------------------------\")\n",
    "print(f\"### ANSWER in {response_latency:.2f} seconds: ###\\n{answer}\")"
   ]
  },
  {
   "cell_type": "markdown",
   "id": "ead904f5394afbed",
   "metadata": {},
   "source": [
    "## Creating answers\n",
    "Next up, we will create all responses for our currently stored questions and store them. This will be done at first only for one configuration (azure generator only), but can be copied later on for further generations."
   ]
  },
  {
   "cell_type": "code",
   "execution_count": 7,
   "id": "883f4739f8ecc741",
   "metadata": {},
   "outputs": [
    {
     "name": "stderr",
     "output_type": "stream",
     "text": [
      "Progress on answer generation [PROGRESS]:: [=================================================] 100% (60/60)\u001b[0m\n"
     ]
    }
   ],
   "source": [
    "azure_generator_only_wf_system: WorkflowSystem = init_stored_wf_system(dbi, azure_generator_only_config, BACKEND_API_URL)   \n",
    "\n",
    "all_question_docs = list(dbi.get_collection(CollectionName.QUESTIONS).find())\n",
    "logger.progress(\"Progress on answer generation [PROGRESS]: \", 0, len(all_question_docs))\n",
    "for i, question_doc in enumerate(all_question_docs):\n",
    "    question: QuestionEntry = dbi.document_to_question_entry(question_doc)\n",
    "    generate_stored_response(dbi, azure_generator_only_wf_system, None, question, BACKEND_API_URL)\n",
    "    logger.progress(\"Progress on answer generation [PROGRESS]:\", i + 1, len(all_question_docs))"
   ]
  },
  {
   "cell_type": "markdown",
   "id": "da43d45d2edbb428",
   "metadata": {},
   "source": [
    "## Gathering feedback\n",
    "For this configuration, we now want to obtain not only the response latency, but also two manual evaluation values:\n",
    "1. Correctness\n",
    "2. Hallucination classification\n",
    "\n",
    "This requires expert responses."
   ]
  },
  {
   "cell_type": "markdown",
   "id": "4c61c35d602fc9db",
   "metadata": {},
   "source": [
    "### Setup"
   ]
  },
  {
   "attachments": {},
   "cell_type": "markdown",
   "id": "df287b44",
   "metadata": {
    "jp-MarkdownHeadingCollapsed": true
   },
   "source": [
    "#### Get chats"
   ]
  },
  {
   "cell_type": "code",
   "execution_count": 8,
   "id": "f93a3bca",
   "metadata": {},
   "outputs": [],
   "source": [
    "def get_chats():\n",
    "    azure_generator_only_wf_system: WorkflowSystem = dbi.document_to_workflow_system(\n",
    "        dbi.get_entry(CollectionName.WORKFLOW_SYSTEMS, \"name\", azure_generator_only_config[\"name\"])\n",
    "    )\n",
    "    chats: List[ChatInteraction] = azure_generator_only_wf_system.generation_results\n",
    "    \n",
    "    return chats"
   ]
  },
  {
   "attachments": {},
   "cell_type": "markdown",
   "id": "f12f4013",
   "metadata": {
    "jp-MarkdownHeadingCollapsed": true
   },
   "source": [
    "#### Define functions for widget creation"
   ]
  },
  {
   "cell_type": "code",
   "execution_count": 9,
   "id": "0d8298c6",
   "metadata": {},
   "outputs": [],
   "source": [
    "def create_ui_widgets():\n",
    "  title_html = widgets.HTML()\n",
    "  question_html = widgets.HTML(layout=widgets.Layout(width=\"75%\"))\n",
    "  expected_asw_html = widgets.HTML(layout=widgets.Layout(width=\"75%\"))\n",
    "  provided_asw_html = widgets.HTML(layout=widgets.Layout(width=\"75%\"))\n",
    "  existing_feedback_html = widgets.HTML(layout=widgets.Layout(width=\"75%\"))\n",
    "  \n",
    "  feedback_correct_label = widgets.Label(value=\"Correctness:\", layout=widgets.Layout(width='120px'))\n",
    "  feedback_correct_input = widgets.IntSlider(value=3, min=1, max=5, step=1, description=\"\")\n",
    "  \n",
    "  feedback_hall_label = widgets.Label(value=\"Hallucination count:\", layout=widgets.Layout(width='120px'))\n",
    "  fc_input = widgets.BoundedIntText(value=0, min=0, max=5, description=\"FC\")\n",
    "  ic_input = widgets.BoundedIntText(value=0, min=0, max=5, description=\"IC\")\n",
    "  cc_input = widgets.BoundedIntText(value=0, min=0, max=5, description=\"CC\")\n",
    "  \n",
    "  feedback_notes_label = widgets.Label(value=\"Note:\", layout=widgets.Layout(width='120px'))\n",
    "  feedback_notes_input = widgets.Textarea(placeholder=\"Enter your name and optional notes...\", description=\"\", disabled=False, layout=widgets.Layout(width=\"75%\", padding=\"0 160px 0 0\"))  \n",
    "  \n",
    "  return title_html, question_html, expected_asw_html, provided_asw_html, existing_feedback_html, feedback_correct_label, feedback_correct_input, feedback_hall_label, fc_input, ic_input, cc_input, feedback_notes_label, feedback_notes_input\n",
    "\n",
    "def create_buttons():\n",
    "  prev_button   = widgets.Button(description=\"Previous\")\n",
    "  next_button   = widgets.Button(description=\"Next\")\n",
    "  save_button   = widgets.Button(description=\"Save\", button_style=\"success\")\n",
    "  exit_button = widgets.Button(description=\"Exit\")\n",
    "  \n",
    "  return prev_button, next_button, save_button, exit_button"
   ]
  },
  {
   "attachments": {},
   "cell_type": "markdown",
   "id": "c0cacd8b",
   "metadata": {
    "jp-MarkdownHeadingCollapsed": true
   },
   "source": [
    "#### Define parsers for display of chat properties"
   ]
  },
  {
   "cell_type": "code",
   "execution_count": 10,
   "id": "b3c37e0f",
   "metadata": {},
   "outputs": [],
   "source": [
    "def parse_question(question: QuestionEntry, section_title=\"Question\") -> str:\n",
    "  question = f\"\"\"\n",
    "  <details open style=\"margin: 0 20px\">\n",
    "    <summary style='font-weight: bold; font-size: 1.05em; cursor: pointer;'>{section_title}</summary>\n",
    "    <div style='margin: 0px 30px 30px 30px;'>\n",
    "      <span>{html.escape(question.question)}</span><br>\n",
    "      <span><small style='color: gray'>Type: {question.classification.supercategory.value} / {question.classification.subcategory.value}</small></span>\n",
    "    </div>\n",
    "  </details>\n",
    "  \"\"\"\n",
    "  return question\n",
    "\n",
    "def parse_expected_answer_table(ea_list: List[ExpectedAnswer], section_title = \"Expected answer / retrieval\") -> str:\n",
    "  align_style = \"text-align:left; padding: 4px 10px;\"\n",
    "  table = f\"\"\"\n",
    "  <details open style=\"margin: 0 20px\">\n",
    "    <summary style='font-weight: bold; font-size: 1.05em; cursor: pointer;'>{section_title}</summary>\n",
    "    <div style='margin: 0px 30px 30px 30px;'>\n",
    "      <table style='border-collapse: collapse;'>\n",
    "        <thead>\n",
    "          <tr>\n",
    "            <th style='{align_style} border-bottom: 1px solid #ccc;'>#</th>\n",
    "            <th style='{align_style} border-bottom: 1px solid #ccc;'>Guideline (AWMF-Nr.)</th>\n",
    "            <th style='{align_style}; border-bottom: 1px solid #ccc;'>Text</th>\n",
    "            <th style='{align_style} border-bottom: 1px solid #ccc;'>Page in guideline</th>\n",
    "          </tr>\n",
    "        </thead>\n",
    "        <tbody>\n",
    "  \"\"\"\n",
    "  for i, ea in enumerate(ea_list):\n",
    "    table += f\"\"\"\n",
    "          <tr>\n",
    "            <td style='{align_style}'>{i}</td>\n",
    "            <td style='{align_style}'>{ea.guideline.awmf_register_number}</td>\n",
    "            <td style='{align_style}'>{html.escape(ea.text)}</td>\n",
    "            <td style='{align_style}'>{ea.guideline_page}</td>\n",
    "          </tr>\n",
    "    \"\"\"\n",
    "  table += \"\"\"\n",
    "        </tbody>\n",
    "      </table>\n",
    "    </div>\n",
    "  </details>\n",
    "  \"\"\"\n",
    "  return table\n",
    "\n",
    "def parse_provided_answer(pa: GenerationResultEntry, section_title=\"System response (provided answer)\") -> str:\n",
    "  provided_answer = f\"\"\"\n",
    "  <details open style=\"margin: 0 20px\">\n",
    "    <summary style='font-weight: bold; font-size: 1.05em; cursor: pointer;'>{section_title}</summary>\n",
    "    <div style='margin: 0px 30px 30px 30px;'>\n",
    "      {markdown.markdown(pa.answer)}\n",
    "    </div>\n",
    "  </details>\n",
    "  \"\"\"\n",
    "  return provided_answer\n",
    "\n",
    "def parse_existing_feedback(fb_list: List[Feedback], section_title=\"Already existing evaluation / feedback\") -> str:\n",
    "  if not fb_list:\n",
    "    return \"\"\n",
    "  \n",
    "  align_style = \"text-align:left; padding: 4px 10px;\"\n",
    "  table = f\"\"\"\n",
    "  <details open style=\"margin: 0 20px\">\n",
    "    <summary style='font-weight: bold; font-size: 1.05em; cursor: pointer;'>{section_title}</summary>\n",
    "    <div style='margin: 0px 30px 30px 30px;'>\n",
    "      <table style='border-collapse: collapse;'>\n",
    "        <thead>\n",
    "          <tr>\n",
    "            <th style='{align_style} border-bottom: 1px solid #ccc;'>#</th>\n",
    "            <th style='{align_style}; border-bottom: 1px solid #ccc;'>Target</th>\n",
    "            <th style='{align_style} border-bottom: 1px solid #ccc;'>Type</th>\n",
    "            <th style='{align_style} border-bottom: 1px solid #ccc;'>Value</th>\n",
    "            <th style='{align_style} border-bottom: 1px solid #ccc;'>Notes</th>\n",
    "          </tr>\n",
    "        </thead>\n",
    "        <tbody>\n",
    "  \"\"\"\n",
    "  for i, fb in enumerate(fb_list):\n",
    "    table += f\"\"\"\n",
    "          <tr>\n",
    "            <td style='{align_style}'>{i}</td>\n",
    "            <td style='{align_style}'>{fb.target.value}</td>\n",
    "            <td style='{align_style}'>{fb.type.value}</td>\n",
    "            <td style='{align_style}'>{fb.value} <small style='color: gray;'>{'manual' if fb.manual else 'autom.'}</small></td>\n",
    "            <td style='{align_style}'>{fb.notes if fb.notes else '/'}</td>\n",
    "          </tr>\n",
    "    \"\"\"\n",
    "  table += \"\"\"\n",
    "        </tbody>\n",
    "      </table>\n",
    "    </div>\n",
    "  </details>\n",
    "  \"\"\"\n",
    "  return table"
   ]
  },
  {
   "attachments": {},
   "cell_type": "markdown",
   "id": "4a57211d",
   "metadata": {
    "jp-MarkdownHeadingCollapsed": true
   },
   "source": [
    "#### Acutal setup of input display"
   ]
  },
  {
   "cell_type": "code",
   "execution_count": 11,
   "id": "30bd09aa",
   "metadata": {},
   "outputs": [],
   "source": [
    "current_idx = 0\n",
    "\n",
    "title_html, question_html, expected_answer_html, provided_answer_html, existing_feedback_html, feedback_correct_label, feedback_correct_input, feedback_hall_label, fc_input, ic_input, cc_input, feedback_notes_label, feedback_notes_input = create_ui_widgets()\n",
    "prev_button, next_button, save_button, exit_button = create_buttons()\n",
    "\n",
    "def update(dbi, chat: ChatInteraction, entry: GenerationResultEntry):\n",
    "  correctness_score = feedback_correct_input.value\n",
    "  hallucination_counts = {\n",
    "    \"FC\": fc_input.value,\n",
    "    \"IC\": ic_input.value,\n",
    "    \"CC\": cc_input.value\n",
    "  }\n",
    "  note = feedback_notes_input.value\n",
    "  \n",
    "  insert_feedback(\n",
    "    dbi, chat, entry, create_feedback_correctness(correctness_score, note)\n",
    "  )\n",
    "  insert_feedback(\n",
    "    dbi, chat, entry, create_feedback_hallucination_classification(hallucination_counts, note)\n",
    "  )\n",
    "\n",
    "def show_entry(idx):\n",
    "  global current_idx\n",
    "  current_idx = idx\n",
    "  entry: GenerationResultEntry = chats[idx].entries[0]\n",
    "  \n",
    "  title_html.value = f\"\"\"\n",
    "  <div style='display: flex; justify-content: start; align-items: center;'>\n",
    "    <h3 style='margin: 0;'>Chat {idx}</h3>\n",
    "    <small style='margin-left: 10px;'>[{idx + 1}/{len(chats)}]</small>\n",
    "  </div>\n",
    "  \"\"\"\n",
    "  question_html.value = parse_question(entry.question)\n",
    "  expected_answer_html.value = parse_expected_answer_table(entry.question.expected_answers)\n",
    "  provided_answer_html.value = parse_provided_answer(entry)\n",
    "  existing_feedback_html.value = parse_existing_feedback(entry.feedback)\n",
    "  \n",
    "  prev_button.disabled = (idx == 0)\n",
    "  next_button.disabled = (idx == len(chats) - 1)\n",
    "  save_button.disabled = (idx == len(chats))\n",
    "\n",
    "def on_prev_clicked(b):\n",
    "  \"\"\"Handle Previous button click: NO SAVING!! show previous entry.\"\"\"\n",
    "  if current_idx > 0:\n",
    "    show_entry(current_idx - 1)\n",
    "\n",
    "def on_next_clicked(b):\n",
    "  \"\"\"Handle Next button click: NO SAVING!! show next entry.\"\"\"\n",
    "  if current_idx < len(chats) - 1:\n",
    "    show_entry(current_idx + 1)\n",
    "\n",
    "def on_save_clicked(b):\n",
    "  \"\"\"Handle Save button click: store current status.\"\"\"\n",
    "  global chats\n",
    "  current_entry = chats[current_idx]\n",
    "  update(dbi, current_entry, current_entry.entries[0])\n",
    "  chats = get_chats()\n",
    "  show_entry(current_idx)\n",
    "  print(f\"stored results for entry {current_idx}\")\n",
    "\n",
    "def on_exit_clicked(b):\n",
    "  \"\"\"Handle Exit button click: NO SAVING!! end the process.\"\"\"\n",
    "  entry_box.layout.display = 'none'\n",
    "  clear_output()\n",
    "  print(\"Finished reviewing entries.\") \n",
    "\n",
    "prev_button.on_click(on_prev_clicked)\n",
    "next_button.on_click(on_next_clicked)\n",
    "save_button.on_click(on_save_clicked)\n",
    "exit_button.on_click(on_exit_clicked)\n",
    "\n",
    "entry_box = widgets.VBox([\n",
    "  title_html,\n",
    "  question_html,\n",
    "  expected_answer_html,\n",
    "  provided_answer_html,\n",
    "  existing_feedback_html,\n",
    "  widgets.HBox([feedback_correct_label,  feedback_correct_input], layout=widgets.Layout(margin=\"10px 20px\")),  \n",
    "  widgets.HBox([feedback_hall_label, widgets.HBox([fc_input, ic_input, cc_input])], layout=widgets.Layout(margin=\"10px 20px\")), \n",
    "  widgets.HBox([feedback_notes_label,  feedback_notes_input], layout=widgets.Layout(margin=\"10px 20px\")),  \n",
    "  widgets.HBox([prev_button, next_button, save_button, exit_button], layout=widgets.Layout(margin=\"5px 20px\"))\n",
    "])"
   ]
  },
  {
   "attachments": {},
   "cell_type": "markdown",
   "id": "78ba1a5cd55b3190",
   "metadata": {},
   "source": [
    "### Explanation\n",
    "This section requires expert input. Start the next cell, then fill out the provided form.\n",
    "\n",
    "We assume for each chat, that only one interaction is relevant. Meaning, we got one question as an input, and one system response as the output. This means, per question, we got the following information displayed:\n",
    "- Expected answer / retrieval (if available).\n",
    "- Answer provided by the system &rarr; needs evaluation.\n",
    "- Display of currrent evaluation.\n",
    "\n",
    "The evaluation is focussing on the following aspects:\n",
    "1. Correctness: Check how well response covers the expected information (1 - <small>$0\\%$</small>, 5 - <small>$100\\%$</small>)\n",
    "2. Hallucination classification: Identify and categorize hallucinations &rarr; count for each of these categories:\n",
    "   - FC = fact-conflicting (contradicts world (medical) knowledge)\n",
    "   - IC = input-conflicting (does not address full user input)\n",
    "   - CC = context-conflicting (contradicts provided content like user history or citations)\n",
    "\n",
    "In addition to the values, you can also add a comment per feedback submission. Ideally, add the following line:\n",
    "- `Evaluator name: ...` with your name inserted\n",
    "\n",
    "For the navigation, keep the following in mind:\n",
    "- TODO"
   ]
  },
  {
   "cell_type": "markdown",
   "id": "8b90a6e3809a0ef1",
   "metadata": {},
   "source": [
    "### Execution"
   ]
  },
  {
   "cell_type": "code",
   "execution_count": 12,
   "id": "74ff65f59649f195",
   "metadata": {},
   "outputs": [
    {
     "data": {
      "application/vnd.jupyter.widget-view+json": {
       "model_id": "6fc842579fe84e9aa54a38aa36fdbfe5",
       "version_major": 2,
       "version_minor": 0
      },
      "text/plain": [
       "VBox(children=(HTML(value=\"\\n  <div style='display: flex; justify-content: start; align-items: center;'>\\n    …"
      ]
     },
     "metadata": {},
     "output_type": "display_data"
    }
   ],
   "source": [
    "chats: List[ChatInteraction] = get_chats()\n",
    "show_entry(0)\n",
    "entry_box.layout.display = \"\"\n",
    "display(entry_box)"
   ]
  },
  {
   "attachments": {},
   "cell_type": "markdown",
   "id": "43a353aa",
   "metadata": {},
   "source": [
    "## Visualization\n",
    "This section will now present an overview over the collected feedback and statistics for the evaluation."
   ]
  },
  {
   "attachments": {},
   "cell_type": "markdown",
   "id": "c985a945",
   "metadata": {},
   "source": [
    "### Response latency"
   ]
  },
  {
   "cell_type": "code",
   "execution_count": 16,
   "id": "f23696b3",
   "metadata": {},
   "outputs": [
    {
     "name": "stdout",
     "output_type": "stream",
     "text": [
      "Average response latency: 3.34 s\n",
      "Response latency for Simple questions: 3.16 s\n",
      "Response latency for Complex questions: 3.93 s\n",
      "Response latency for Negative questions: 2.74 s\n"
     ]
    },
    {
     "data": {
      "application/vnd.plotly.v1+json": {
       "config": {
        "plotlyServerURL": "https://plot.ly"
       },
       "data": [
        {
         "alignmentgroup": "True",
         "hovertemplate": "Supercategory=Simple<br>Subcategory=%{x}<br>Response Latency (s)=%{y}<extra></extra>",
         "legendgroup": "Simple",
         "line": {
          "width": 1
         },
         "marker": {
          "color": "#33691E",
          "size": 3
         },
         "name": "Simple",
         "notched": false,
         "offsetgroup": "Simple",
         "orientation": "v",
         "showlegend": true,
         "type": "box",
         "x": [
          "Text",
          "Text",
          "Text",
          "Text",
          "Text",
          "Text",
          "Text",
          "Text",
          "Text",
          "Text",
          "Text",
          "Text",
          "Text",
          "Text",
          "Text",
          "Text",
          "Text",
          "Text",
          "Text",
          "Text",
          "Text",
          "Text",
          "Table",
          "Table",
          "Image",
          "Recommendation",
          "Recommendation",
          "Recommendation",
          "Recommendation",
          "Recommendation",
          "Recommendation",
          "Recommendation",
          "Recommendation",
          "Recommendation",
          "Recommendation",
          "Recommendation",
          "Recommendation"
         ],
         "x0": " ",
         "xaxis": "x",
         "y": [
          3.2257750034332275,
          3.1715354919433594,
          3.3228981494903564,
          2.8500146865844727,
          3.5222105979919434,
          3.751227378845215,
          2.7143185138702393,
          3.8572897911071777,
          2.329211711883545,
          3.0083937644958496,
          4.9045023918151855,
          1.6113016605377197,
          3.7724955081939697,
          2.480178117752075,
          1.677074909210205,
          8.080959796905518,
          5.011932134628296,
          2.325669765472412,
          5.291001558303833,
          1.6620135307312012,
          2.6907784938812256,
          2.5716660022735596,
          4.060060739517212,
          1.8714807033538818,
          3.5941383838653564,
          3.375986099243164,
          2.437143087387085,
          2.4972455501556396,
          2.019392728805542,
          1.9989094734191895,
          2.8250086307525635,
          3.0618650913238525,
          3.593952178955078,
          2.173083782196045,
          4.896462917327881,
          3.3436295986175537,
          1.3748795986175537
         ],
         "y0": " ",
         "yaxis": "y"
        },
        {
         "alignmentgroup": "True",
         "hovertemplate": "Supercategory=Complex<br>Subcategory=%{x}<br>Response Latency (s)=%{y}<extra></extra>",
         "legendgroup": "Complex",
         "line": {
          "width": 1
         },
         "marker": {
          "color": "#0D47A1",
          "size": 3
         },
         "name": "Complex",
         "notched": false,
         "offsetgroup": "Complex",
         "orientation": "v",
         "showlegend": true,
         "type": "box",
         "x": [
          "Synonym",
          "Multiple sections",
          "Multiple sections",
          "Multiple sections",
          "Multiple sections",
          "Multiple sections",
          "Multiple sections",
          "Multiple sections",
          "Multiple sections",
          "Multiple sections",
          "Multiple sections",
          "Multiple sections",
          "Multiple sections",
          "Multiple guidelines",
          "Substeps",
          "Substeps",
          "Substeps"
         ],
         "x0": " ",
         "xaxis": "x",
         "y": [
          3.2841899394989014,
          2.906033754348755,
          1.443624496459961,
          2.1054513454437256,
          3.978212833404541,
          6.787268877029419,
          2.5780463218688965,
          2.2881338596343994,
          5.567347764968872,
          1.988264799118042,
          8.483975172042847,
          3.3184473514556885,
          3.002103090286255,
          6.365157127380371,
          6.512892007827759,
          3.690279960632324,
          2.4615604877471924
         ],
         "y0": " ",
         "yaxis": "y"
        },
        {
         "alignmentgroup": "True",
         "hovertemplate": "Supercategory=Negative<br>Subcategory=%{x}<br>Response Latency (s)=%{y}<extra></extra>",
         "legendgroup": "Negative",
         "line": {
          "width": 1
         },
         "marker": {
          "color": "#EF6C00",
          "size": 3
         },
         "name": "Negative",
         "notched": false,
         "offsetgroup": "Negative",
         "orientation": "v",
         "showlegend": true,
         "type": "box",
         "x": [
          "Outside medicine",
          "Outside OMS",
          "Outside guidelines",
          "Outside guidelines",
          "Patient-specific",
          "Broken input",
          "False assumption",
          "False assumption",
          "False assumption",
          "False assumption"
         ],
         "x0": " ",
         "xaxis": "x",
         "y": [
          null,
          null,
          5.626286029815674,
          3.811296224594116,
          null,
          null,
          1.9664793014526367,
          2.472444534301758,
          1.510664701461792,
          1.0814828872680664
         ],
         "y0": " ",
         "yaxis": "y"
        }
       ],
       "layout": {
        "boxmode": "overlay",
        "height": 500,
        "legend": {
         "title": {
          "text": "Supercategory"
         },
         "tracegroupgap": 0
        },
        "showlegend": true,
        "template": {
         "data": {
          "bar": [
           {
            "error_x": {
             "color": "rgb(36,36,36)"
            },
            "error_y": {
             "color": "rgb(36,36,36)"
            },
            "marker": {
             "line": {
              "color": "rgb(234,234,242)",
              "width": 0.5
             },
             "pattern": {
              "fillmode": "overlay",
              "size": 10,
              "solidity": 0.2
             }
            },
            "type": "bar"
           }
          ],
          "barpolar": [
           {
            "marker": {
             "line": {
              "color": "rgb(234,234,242)",
              "width": 0.5
             },
             "pattern": {
              "fillmode": "overlay",
              "size": 10,
              "solidity": 0.2
             }
            },
            "type": "barpolar"
           }
          ],
          "carpet": [
           {
            "aaxis": {
             "endlinecolor": "rgb(36,36,36)",
             "gridcolor": "white",
             "linecolor": "white",
             "minorgridcolor": "white",
             "startlinecolor": "rgb(36,36,36)"
            },
            "baxis": {
             "endlinecolor": "rgb(36,36,36)",
             "gridcolor": "white",
             "linecolor": "white",
             "minorgridcolor": "white",
             "startlinecolor": "rgb(36,36,36)"
            },
            "type": "carpet"
           }
          ],
          "choropleth": [
           {
            "colorbar": {
             "outlinewidth": 0,
             "tickcolor": "rgb(36,36,36)",
             "ticklen": 8,
             "ticks": "outside",
             "tickwidth": 2
            },
            "type": "choropleth"
           }
          ],
          "contour": [
           {
            "colorbar": {
             "outlinewidth": 0,
             "tickcolor": "rgb(36,36,36)",
             "ticklen": 8,
             "ticks": "outside",
             "tickwidth": 2
            },
            "colorscale": [
             [
              0,
              "rgb(2,4,25)"
             ],
             [
              0.06274509803921569,
              "rgb(24,15,41)"
             ],
             [
              0.12549019607843137,
              "rgb(47,23,57)"
             ],
             [
              0.18823529411764706,
              "rgb(71,28,72)"
             ],
             [
              0.25098039215686274,
              "rgb(97,30,82)"
             ],
             [
              0.3137254901960784,
              "rgb(123,30,89)"
             ],
             [
              0.3764705882352941,
              "rgb(150,27,91)"
             ],
             [
              0.4392156862745098,
              "rgb(177,22,88)"
             ],
             [
              0.5019607843137255,
              "rgb(203,26,79)"
             ],
             [
              0.5647058823529412,
              "rgb(223,47,67)"
             ],
             [
              0.6274509803921569,
              "rgb(236,76,61)"
             ],
             [
              0.6901960784313725,
              "rgb(242,107,73)"
             ],
             [
              0.7529411764705882,
              "rgb(244,135,95)"
             ],
             [
              0.8156862745098039,
              "rgb(245,162,122)"
             ],
             [
              0.8784313725490196,
              "rgb(246,188,153)"
             ],
             [
              0.9411764705882353,
              "rgb(247,212,187)"
             ],
             [
              1,
              "rgb(250,234,220)"
             ]
            ],
            "type": "contour"
           }
          ],
          "contourcarpet": [
           {
            "colorbar": {
             "outlinewidth": 0,
             "tickcolor": "rgb(36,36,36)",
             "ticklen": 8,
             "ticks": "outside",
             "tickwidth": 2
            },
            "type": "contourcarpet"
           }
          ],
          "heatmap": [
           {
            "colorbar": {
             "outlinewidth": 0,
             "tickcolor": "rgb(36,36,36)",
             "ticklen": 8,
             "ticks": "outside",
             "tickwidth": 2
            },
            "colorscale": [
             [
              0,
              "rgb(2,4,25)"
             ],
             [
              0.06274509803921569,
              "rgb(24,15,41)"
             ],
             [
              0.12549019607843137,
              "rgb(47,23,57)"
             ],
             [
              0.18823529411764706,
              "rgb(71,28,72)"
             ],
             [
              0.25098039215686274,
              "rgb(97,30,82)"
             ],
             [
              0.3137254901960784,
              "rgb(123,30,89)"
             ],
             [
              0.3764705882352941,
              "rgb(150,27,91)"
             ],
             [
              0.4392156862745098,
              "rgb(177,22,88)"
             ],
             [
              0.5019607843137255,
              "rgb(203,26,79)"
             ],
             [
              0.5647058823529412,
              "rgb(223,47,67)"
             ],
             [
              0.6274509803921569,
              "rgb(236,76,61)"
             ],
             [
              0.6901960784313725,
              "rgb(242,107,73)"
             ],
             [
              0.7529411764705882,
              "rgb(244,135,95)"
             ],
             [
              0.8156862745098039,
              "rgb(245,162,122)"
             ],
             [
              0.8784313725490196,
              "rgb(246,188,153)"
             ],
             [
              0.9411764705882353,
              "rgb(247,212,187)"
             ],
             [
              1,
              "rgb(250,234,220)"
             ]
            ],
            "type": "heatmap"
           }
          ],
          "heatmapgl": [
           {
            "colorbar": {
             "outlinewidth": 0,
             "tickcolor": "rgb(36,36,36)",
             "ticklen": 8,
             "ticks": "outside",
             "tickwidth": 2
            },
            "colorscale": [
             [
              0,
              "rgb(2,4,25)"
             ],
             [
              0.06274509803921569,
              "rgb(24,15,41)"
             ],
             [
              0.12549019607843137,
              "rgb(47,23,57)"
             ],
             [
              0.18823529411764706,
              "rgb(71,28,72)"
             ],
             [
              0.25098039215686274,
              "rgb(97,30,82)"
             ],
             [
              0.3137254901960784,
              "rgb(123,30,89)"
             ],
             [
              0.3764705882352941,
              "rgb(150,27,91)"
             ],
             [
              0.4392156862745098,
              "rgb(177,22,88)"
             ],
             [
              0.5019607843137255,
              "rgb(203,26,79)"
             ],
             [
              0.5647058823529412,
              "rgb(223,47,67)"
             ],
             [
              0.6274509803921569,
              "rgb(236,76,61)"
             ],
             [
              0.6901960784313725,
              "rgb(242,107,73)"
             ],
             [
              0.7529411764705882,
              "rgb(244,135,95)"
             ],
             [
              0.8156862745098039,
              "rgb(245,162,122)"
             ],
             [
              0.8784313725490196,
              "rgb(246,188,153)"
             ],
             [
              0.9411764705882353,
              "rgb(247,212,187)"
             ],
             [
              1,
              "rgb(250,234,220)"
             ]
            ],
            "type": "heatmapgl"
           }
          ],
          "histogram": [
           {
            "marker": {
             "pattern": {
              "fillmode": "overlay",
              "size": 10,
              "solidity": 0.2
             }
            },
            "type": "histogram"
           }
          ],
          "histogram2d": [
           {
            "colorbar": {
             "outlinewidth": 0,
             "tickcolor": "rgb(36,36,36)",
             "ticklen": 8,
             "ticks": "outside",
             "tickwidth": 2
            },
            "colorscale": [
             [
              0,
              "rgb(2,4,25)"
             ],
             [
              0.06274509803921569,
              "rgb(24,15,41)"
             ],
             [
              0.12549019607843137,
              "rgb(47,23,57)"
             ],
             [
              0.18823529411764706,
              "rgb(71,28,72)"
             ],
             [
              0.25098039215686274,
              "rgb(97,30,82)"
             ],
             [
              0.3137254901960784,
              "rgb(123,30,89)"
             ],
             [
              0.3764705882352941,
              "rgb(150,27,91)"
             ],
             [
              0.4392156862745098,
              "rgb(177,22,88)"
             ],
             [
              0.5019607843137255,
              "rgb(203,26,79)"
             ],
             [
              0.5647058823529412,
              "rgb(223,47,67)"
             ],
             [
              0.6274509803921569,
              "rgb(236,76,61)"
             ],
             [
              0.6901960784313725,
              "rgb(242,107,73)"
             ],
             [
              0.7529411764705882,
              "rgb(244,135,95)"
             ],
             [
              0.8156862745098039,
              "rgb(245,162,122)"
             ],
             [
              0.8784313725490196,
              "rgb(246,188,153)"
             ],
             [
              0.9411764705882353,
              "rgb(247,212,187)"
             ],
             [
              1,
              "rgb(250,234,220)"
             ]
            ],
            "type": "histogram2d"
           }
          ],
          "histogram2dcontour": [
           {
            "colorbar": {
             "outlinewidth": 0,
             "tickcolor": "rgb(36,36,36)",
             "ticklen": 8,
             "ticks": "outside",
             "tickwidth": 2
            },
            "colorscale": [
             [
              0,
              "rgb(2,4,25)"
             ],
             [
              0.06274509803921569,
              "rgb(24,15,41)"
             ],
             [
              0.12549019607843137,
              "rgb(47,23,57)"
             ],
             [
              0.18823529411764706,
              "rgb(71,28,72)"
             ],
             [
              0.25098039215686274,
              "rgb(97,30,82)"
             ],
             [
              0.3137254901960784,
              "rgb(123,30,89)"
             ],
             [
              0.3764705882352941,
              "rgb(150,27,91)"
             ],
             [
              0.4392156862745098,
              "rgb(177,22,88)"
             ],
             [
              0.5019607843137255,
              "rgb(203,26,79)"
             ],
             [
              0.5647058823529412,
              "rgb(223,47,67)"
             ],
             [
              0.6274509803921569,
              "rgb(236,76,61)"
             ],
             [
              0.6901960784313725,
              "rgb(242,107,73)"
             ],
             [
              0.7529411764705882,
              "rgb(244,135,95)"
             ],
             [
              0.8156862745098039,
              "rgb(245,162,122)"
             ],
             [
              0.8784313725490196,
              "rgb(246,188,153)"
             ],
             [
              0.9411764705882353,
              "rgb(247,212,187)"
             ],
             [
              1,
              "rgb(250,234,220)"
             ]
            ],
            "type": "histogram2dcontour"
           }
          ],
          "mesh3d": [
           {
            "colorbar": {
             "outlinewidth": 0,
             "tickcolor": "rgb(36,36,36)",
             "ticklen": 8,
             "ticks": "outside",
             "tickwidth": 2
            },
            "type": "mesh3d"
           }
          ],
          "parcoords": [
           {
            "line": {
             "colorbar": {
              "outlinewidth": 0,
              "tickcolor": "rgb(36,36,36)",
              "ticklen": 8,
              "ticks": "outside",
              "tickwidth": 2
             }
            },
            "type": "parcoords"
           }
          ],
          "pie": [
           {
            "automargin": true,
            "type": "pie"
           }
          ],
          "scatter": [
           {
            "fillpattern": {
             "fillmode": "overlay",
             "size": 10,
             "solidity": 0.2
            },
            "type": "scatter"
           }
          ],
          "scatter3d": [
           {
            "line": {
             "colorbar": {
              "outlinewidth": 0,
              "tickcolor": "rgb(36,36,36)",
              "ticklen": 8,
              "ticks": "outside",
              "tickwidth": 2
             }
            },
            "marker": {
             "colorbar": {
              "outlinewidth": 0,
              "tickcolor": "rgb(36,36,36)",
              "ticklen": 8,
              "ticks": "outside",
              "tickwidth": 2
             }
            },
            "type": "scatter3d"
           }
          ],
          "scattercarpet": [
           {
            "marker": {
             "colorbar": {
              "outlinewidth": 0,
              "tickcolor": "rgb(36,36,36)",
              "ticklen": 8,
              "ticks": "outside",
              "tickwidth": 2
             }
            },
            "type": "scattercarpet"
           }
          ],
          "scattergeo": [
           {
            "marker": {
             "colorbar": {
              "outlinewidth": 0,
              "tickcolor": "rgb(36,36,36)",
              "ticklen": 8,
              "ticks": "outside",
              "tickwidth": 2
             }
            },
            "type": "scattergeo"
           }
          ],
          "scattergl": [
           {
            "marker": {
             "colorbar": {
              "outlinewidth": 0,
              "tickcolor": "rgb(36,36,36)",
              "ticklen": 8,
              "ticks": "outside",
              "tickwidth": 2
             }
            },
            "type": "scattergl"
           }
          ],
          "scattermapbox": [
           {
            "marker": {
             "colorbar": {
              "outlinewidth": 0,
              "tickcolor": "rgb(36,36,36)",
              "ticklen": 8,
              "ticks": "outside",
              "tickwidth": 2
             }
            },
            "type": "scattermapbox"
           }
          ],
          "scatterpolar": [
           {
            "marker": {
             "colorbar": {
              "outlinewidth": 0,
              "tickcolor": "rgb(36,36,36)",
              "ticklen": 8,
              "ticks": "outside",
              "tickwidth": 2
             }
            },
            "type": "scatterpolar"
           }
          ],
          "scatterpolargl": [
           {
            "marker": {
             "colorbar": {
              "outlinewidth": 0,
              "tickcolor": "rgb(36,36,36)",
              "ticklen": 8,
              "ticks": "outside",
              "tickwidth": 2
             }
            },
            "type": "scatterpolargl"
           }
          ],
          "scatterternary": [
           {
            "marker": {
             "colorbar": {
              "outlinewidth": 0,
              "tickcolor": "rgb(36,36,36)",
              "ticklen": 8,
              "ticks": "outside",
              "tickwidth": 2
             }
            },
            "type": "scatterternary"
           }
          ],
          "surface": [
           {
            "colorbar": {
             "outlinewidth": 0,
             "tickcolor": "rgb(36,36,36)",
             "ticklen": 8,
             "ticks": "outside",
             "tickwidth": 2
            },
            "colorscale": [
             [
              0,
              "rgb(2,4,25)"
             ],
             [
              0.06274509803921569,
              "rgb(24,15,41)"
             ],
             [
              0.12549019607843137,
              "rgb(47,23,57)"
             ],
             [
              0.18823529411764706,
              "rgb(71,28,72)"
             ],
             [
              0.25098039215686274,
              "rgb(97,30,82)"
             ],
             [
              0.3137254901960784,
              "rgb(123,30,89)"
             ],
             [
              0.3764705882352941,
              "rgb(150,27,91)"
             ],
             [
              0.4392156862745098,
              "rgb(177,22,88)"
             ],
             [
              0.5019607843137255,
              "rgb(203,26,79)"
             ],
             [
              0.5647058823529412,
              "rgb(223,47,67)"
             ],
             [
              0.6274509803921569,
              "rgb(236,76,61)"
             ],
             [
              0.6901960784313725,
              "rgb(242,107,73)"
             ],
             [
              0.7529411764705882,
              "rgb(244,135,95)"
             ],
             [
              0.8156862745098039,
              "rgb(245,162,122)"
             ],
             [
              0.8784313725490196,
              "rgb(246,188,153)"
             ],
             [
              0.9411764705882353,
              "rgb(247,212,187)"
             ],
             [
              1,
              "rgb(250,234,220)"
             ]
            ],
            "type": "surface"
           }
          ],
          "table": [
           {
            "cells": {
             "fill": {
              "color": "rgb(231,231,240)"
             },
             "line": {
              "color": "white"
             }
            },
            "header": {
             "fill": {
              "color": "rgb(183,183,191)"
             },
             "line": {
              "color": "white"
             }
            },
            "type": "table"
           }
          ]
         },
         "layout": {
          "annotationdefaults": {
           "arrowcolor": "rgb(67,103,167)"
          },
          "autotypenumbers": "strict",
          "coloraxis": {
           "colorbar": {
            "outlinewidth": 0,
            "tickcolor": "rgb(36,36,36)",
            "ticklen": 8,
            "ticks": "outside",
            "tickwidth": 2
           }
          },
          "colorscale": {
           "sequential": [
            [
             0,
             "rgb(2,4,25)"
            ],
            [
             0.06274509803921569,
             "rgb(24,15,41)"
            ],
            [
             0.12549019607843137,
             "rgb(47,23,57)"
            ],
            [
             0.18823529411764706,
             "rgb(71,28,72)"
            ],
            [
             0.25098039215686274,
             "rgb(97,30,82)"
            ],
            [
             0.3137254901960784,
             "rgb(123,30,89)"
            ],
            [
             0.3764705882352941,
             "rgb(150,27,91)"
            ],
            [
             0.4392156862745098,
             "rgb(177,22,88)"
            ],
            [
             0.5019607843137255,
             "rgb(203,26,79)"
            ],
            [
             0.5647058823529412,
             "rgb(223,47,67)"
            ],
            [
             0.6274509803921569,
             "rgb(236,76,61)"
            ],
            [
             0.6901960784313725,
             "rgb(242,107,73)"
            ],
            [
             0.7529411764705882,
             "rgb(244,135,95)"
            ],
            [
             0.8156862745098039,
             "rgb(245,162,122)"
            ],
            [
             0.8784313725490196,
             "rgb(246,188,153)"
            ],
            [
             0.9411764705882353,
             "rgb(247,212,187)"
            ],
            [
             1,
             "rgb(250,234,220)"
            ]
           ],
           "sequentialminus": [
            [
             0,
             "rgb(2,4,25)"
            ],
            [
             0.06274509803921569,
             "rgb(24,15,41)"
            ],
            [
             0.12549019607843137,
             "rgb(47,23,57)"
            ],
            [
             0.18823529411764706,
             "rgb(71,28,72)"
            ],
            [
             0.25098039215686274,
             "rgb(97,30,82)"
            ],
            [
             0.3137254901960784,
             "rgb(123,30,89)"
            ],
            [
             0.3764705882352941,
             "rgb(150,27,91)"
            ],
            [
             0.4392156862745098,
             "rgb(177,22,88)"
            ],
            [
             0.5019607843137255,
             "rgb(203,26,79)"
            ],
            [
             0.5647058823529412,
             "rgb(223,47,67)"
            ],
            [
             0.6274509803921569,
             "rgb(236,76,61)"
            ],
            [
             0.6901960784313725,
             "rgb(242,107,73)"
            ],
            [
             0.7529411764705882,
             "rgb(244,135,95)"
            ],
            [
             0.8156862745098039,
             "rgb(245,162,122)"
            ],
            [
             0.8784313725490196,
             "rgb(246,188,153)"
            ],
            [
             0.9411764705882353,
             "rgb(247,212,187)"
            ],
            [
             1,
             "rgb(250,234,220)"
            ]
           ]
          },
          "colorway": [
           "rgb(76,114,176)",
           "rgb(221,132,82)",
           "rgb(85,168,104)",
           "rgb(196,78,82)",
           "rgb(129,114,179)",
           "rgb(147,120,96)",
           "rgb(218,139,195)",
           "rgb(140,140,140)",
           "rgb(204,185,116)",
           "rgb(100,181,205)"
          ],
          "font": {
           "color": "rgb(36,36,36)"
          },
          "geo": {
           "bgcolor": "white",
           "lakecolor": "white",
           "landcolor": "rgb(234,234,242)",
           "showlakes": true,
           "showland": true,
           "subunitcolor": "white"
          },
          "hoverlabel": {
           "align": "left"
          },
          "hovermode": "closest",
          "paper_bgcolor": "white",
          "plot_bgcolor": "rgb(234,234,242)",
          "polar": {
           "angularaxis": {
            "gridcolor": "white",
            "linecolor": "white",
            "showgrid": true,
            "ticks": ""
           },
           "bgcolor": "rgb(234,234,242)",
           "radialaxis": {
            "gridcolor": "white",
            "linecolor": "white",
            "showgrid": true,
            "ticks": ""
           }
          },
          "scene": {
           "xaxis": {
            "backgroundcolor": "rgb(234,234,242)",
            "gridcolor": "white",
            "gridwidth": 2,
            "linecolor": "white",
            "showbackground": true,
            "showgrid": true,
            "ticks": "",
            "zerolinecolor": "white"
           },
           "yaxis": {
            "backgroundcolor": "rgb(234,234,242)",
            "gridcolor": "white",
            "gridwidth": 2,
            "linecolor": "white",
            "showbackground": true,
            "showgrid": true,
            "ticks": "",
            "zerolinecolor": "white"
           },
           "zaxis": {
            "backgroundcolor": "rgb(234,234,242)",
            "gridcolor": "white",
            "gridwidth": 2,
            "linecolor": "white",
            "showbackground": true,
            "showgrid": true,
            "ticks": "",
            "zerolinecolor": "white"
           }
          },
          "shapedefaults": {
           "fillcolor": "rgb(67,103,167)",
           "line": {
            "width": 0
           },
           "opacity": 0.5
          },
          "ternary": {
           "aaxis": {
            "gridcolor": "white",
            "linecolor": "white",
            "showgrid": true,
            "ticks": ""
           },
           "baxis": {
            "gridcolor": "white",
            "linecolor": "white",
            "showgrid": true,
            "ticks": ""
           },
           "bgcolor": "rgb(234,234,242)",
           "caxis": {
            "gridcolor": "white",
            "linecolor": "white",
            "showgrid": true,
            "ticks": ""
           }
          },
          "xaxis": {
           "automargin": true,
           "gridcolor": "white",
           "linecolor": "white",
           "showgrid": true,
           "ticks": "",
           "title": {
            "standoff": 15
           },
           "zerolinecolor": "white"
          },
          "yaxis": {
           "automargin": true,
           "gridcolor": "white",
           "linecolor": "white",
           "showgrid": true,
           "ticks": "",
           "title": {
            "standoff": 15
           },
           "zerolinecolor": "white"
          }
         }
        },
        "title": {
         "text": "Response Latency per Question Type"
        },
        "width": 750,
        "xaxis": {
         "anchor": "y",
         "autorange": true,
         "domain": [
          0,
          1
         ],
         "showgrid": false,
         "tickangle": -90,
         "title": {}
        },
        "yaxis": {
         "anchor": "x",
         "domain": [
          0,
          1
         ],
         "range": [
          0,
          9.483975172042847
         ],
         "title": {
          "text": "Response Latency (s)"
         }
        }
       }
      },
      "image/png": "[encoded data removed]",
      "text/html": [
       "<div>                            <div id=\"e3bc4639-b8b9-41be-904f-7890615b613a\" class=\"plotly-graph-div\" style=\"height:500px; width:750px;\"></div>            <script type=\"text/javascript\">                require([\"plotly\"], function(Plotly) {                    window.PLOTLYENV=window.PLOTLYENV || {};                                    if (document.getElementById(\"e3bc4639-b8b9-41be-904f-7890615b613a\")) {                    Plotly.newPlot(                        \"e3bc4639-b8b9-41be-904f-7890615b613a\",                        [{\"alignmentgroup\":\"True\",\"hovertemplate\":\"Supercategory=Simple\\u003cbr\\u003eSubcategory=%{x}\\u003cbr\\u003eResponse Latency (s)=%{y}\\u003cextra\\u003e\\u003c\\u002fextra\\u003e\",\"legendgroup\":\"Simple\",\"marker\":{\"color\":\"#33691E\",\"size\":3},\"name\":\"Simple\",\"notched\":false,\"offsetgroup\":\"Simple\",\"orientation\":\"v\",\"showlegend\":true,\"x\":[\"Text\",\"Text\",\"Text\",\"Text\",\"Text\",\"Text\",\"Text\",\"Text\",\"Text\",\"Text\",\"Text\",\"Text\",\"Text\",\"Text\",\"Text\",\"Text\",\"Text\",\"Text\",\"Text\",\"Text\",\"Text\",\"Text\",\"Table\",\"Table\",\"Image\",\"Recommendation\",\"Recommendation\",\"Recommendation\",\"Recommendation\",\"Recommendation\",\"Recommendation\",\"Recommendation\",\"Recommendation\",\"Recommendation\",\"Recommendation\",\"Recommendation\",\"Recommendation\"],\"x0\":\" \",\"xaxis\":\"x\",\"y\":[3.2257750034332275,3.1715354919433594,3.3228981494903564,2.8500146865844727,3.5222105979919434,3.751227378845215,2.7143185138702393,3.8572897911071777,2.329211711883545,3.0083937644958496,4.9045023918151855,1.6113016605377197,3.7724955081939697,2.480178117752075,1.677074909210205,8.080959796905518,5.011932134628296,2.325669765472412,5.291001558303833,1.6620135307312012,2.6907784938812256,2.5716660022735596,4.060060739517212,1.8714807033538818,3.5941383838653564,3.375986099243164,2.437143087387085,2.4972455501556396,2.019392728805542,1.9989094734191895,2.8250086307525635,3.0618650913238525,3.593952178955078,2.173083782196045,4.896462917327881,3.3436295986175537,1.3748795986175537],\"y0\":\" \",\"yaxis\":\"y\",\"type\":\"box\",\"line\":{\"width\":1}},{\"alignmentgroup\":\"True\",\"hovertemplate\":\"Supercategory=Complex\\u003cbr\\u003eSubcategory=%{x}\\u003cbr\\u003eResponse Latency (s)=%{y}\\u003cextra\\u003e\\u003c\\u002fextra\\u003e\",\"legendgroup\":\"Complex\",\"marker\":{\"color\":\"#0D47A1\",\"size\":3},\"name\":\"Complex\",\"notched\":false,\"offsetgroup\":\"Complex\",\"orientation\":\"v\",\"showlegend\":true,\"x\":[\"Synonym\",\"Multiple sections\",\"Multiple sections\",\"Multiple sections\",\"Multiple sections\",\"Multiple sections\",\"Multiple sections\",\"Multiple sections\",\"Multiple sections\",\"Multiple sections\",\"Multiple sections\",\"Multiple sections\",\"Multiple sections\",\"Multiple guidelines\",\"Substeps\",\"Substeps\",\"Substeps\"],\"x0\":\" \",\"xaxis\":\"x\",\"y\":[3.2841899394989014,2.906033754348755,1.443624496459961,2.1054513454437256,3.978212833404541,6.787268877029419,2.5780463218688965,2.2881338596343994,5.567347764968872,1.988264799118042,8.483975172042847,3.3184473514556885,3.002103090286255,6.365157127380371,6.512892007827759,3.690279960632324,2.4615604877471924],\"y0\":\" \",\"yaxis\":\"y\",\"type\":\"box\",\"line\":{\"width\":1}},{\"alignmentgroup\":\"True\",\"hovertemplate\":\"Supercategory=Negative\\u003cbr\\u003eSubcategory=%{x}\\u003cbr\\u003eResponse Latency (s)=%{y}\\u003cextra\\u003e\\u003c\\u002fextra\\u003e\",\"legendgroup\":\"Negative\",\"marker\":{\"color\":\"#EF6C00\",\"size\":3},\"name\":\"Negative\",\"notched\":false,\"offsetgroup\":\"Negative\",\"orientation\":\"v\",\"showlegend\":true,\"x\":[\"Outside medicine\",\"Outside OMS\",\"Outside guidelines\",\"Outside guidelines\",\"Patient-specific\",\"Broken input\",\"False assumption\",\"False assumption\",\"False assumption\",\"False assumption\"],\"x0\":\" \",\"xaxis\":\"x\",\"y\":[null,null,5.626286029815674,3.811296224594116,null,null,1.9664793014526367,2.472444534301758,1.510664701461792,1.0814828872680664],\"y0\":\" \",\"yaxis\":\"y\",\"type\":\"box\",\"line\":{\"width\":1}}],                        {\"template\":{\"data\":{\"barpolar\":[{\"marker\":{\"line\":{\"color\":\"rgb(234,234,242)\",\"width\":0.5},\"pattern\":{\"fillmode\":\"overlay\",\"size\":10,\"solidity\":0.2}},\"type\":\"barpolar\"}],\"bar\":[{\"error_x\":{\"color\":\"rgb(36,36,36)\"},\"error_y\":{\"color\":\"rgb(36,36,36)\"},\"marker\":{\"line\":{\"color\":\"rgb(234,234,242)\",\"width\":0.5},\"pattern\":{\"fillmode\":\"overlay\",\"size\":10,\"solidity\":0.2}},\"type\":\"bar\"}],\"carpet\":[{\"aaxis\":{\"endlinecolor\":\"rgb(36,36,36)\",\"gridcolor\":\"white\",\"linecolor\":\"white\",\"minorgridcolor\":\"white\",\"startlinecolor\":\"rgb(36,36,36)\"},\"baxis\":{\"endlinecolor\":\"rgb(36,36,36)\",\"gridcolor\":\"white\",\"linecolor\":\"white\",\"minorgridcolor\":\"white\",\"startlinecolor\":\"rgb(36,36,36)\"},\"type\":\"carpet\"}],\"choropleth\":[{\"colorbar\":{\"outlinewidth\":0,\"tickcolor\":\"rgb(36,36,36)\",\"ticklen\":8,\"ticks\":\"outside\",\"tickwidth\":2},\"type\":\"choropleth\"}],\"contourcarpet\":[{\"colorbar\":{\"outlinewidth\":0,\"tickcolor\":\"rgb(36,36,36)\",\"ticklen\":8,\"ticks\":\"outside\",\"tickwidth\":2},\"type\":\"contourcarpet\"}],\"contour\":[{\"colorbar\":{\"outlinewidth\":0,\"tickcolor\":\"rgb(36,36,36)\",\"ticklen\":8,\"ticks\":\"outside\",\"tickwidth\":2},\"colorscale\":[[0.0,\"rgb(2,4,25)\"],[0.06274509803921569,\"rgb(24,15,41)\"],[0.12549019607843137,\"rgb(47,23,57)\"],[0.18823529411764706,\"rgb(71,28,72)\"],[0.25098039215686274,\"rgb(97,30,82)\"],[0.3137254901960784,\"rgb(123,30,89)\"],[0.3764705882352941,\"rgb(150,27,91)\"],[0.4392156862745098,\"rgb(177,22,88)\"],[0.5019607843137255,\"rgb(203,26,79)\"],[0.5647058823529412,\"rgb(223,47,67)\"],[0.6274509803921569,\"rgb(236,76,61)\"],[0.6901960784313725,\"rgb(242,107,73)\"],[0.7529411764705882,\"rgb(244,135,95)\"],[0.8156862745098039,\"rgb(245,162,122)\"],[0.8784313725490196,\"rgb(246,188,153)\"],[0.9411764705882353,\"rgb(247,212,187)\"],[1.0,\"rgb(250,234,220)\"]],\"type\":\"contour\"}],\"heatmapgl\":[{\"colorbar\":{\"outlinewidth\":0,\"tickcolor\":\"rgb(36,36,36)\",\"ticklen\":8,\"ticks\":\"outside\",\"tickwidth\":2},\"colorscale\":[[0.0,\"rgb(2,4,25)\"],[0.06274509803921569,\"rgb(24,15,41)\"],[0.12549019607843137,\"rgb(47,23,57)\"],[0.18823529411764706,\"rgb(71,28,72)\"],[0.25098039215686274,\"rgb(97,30,82)\"],[0.3137254901960784,\"rgb(123,30,89)\"],[0.3764705882352941,\"rgb(150,27,91)\"],[0.4392156862745098,\"rgb(177,22,88)\"],[0.5019607843137255,\"rgb(203,26,79)\"],[0.5647058823529412,\"rgb(223,47,67)\"],[0.6274509803921569,\"rgb(236,76,61)\"],[0.6901960784313725,\"rgb(242,107,73)\"],[0.7529411764705882,\"rgb(244,135,95)\"],[0.8156862745098039,\"rgb(245,162,122)\"],[0.8784313725490196,\"rgb(246,188,153)\"],[0.9411764705882353,\"rgb(247,212,187)\"],[1.0,\"rgb(250,234,220)\"]],\"type\":\"heatmapgl\"}],\"heatmap\":[{\"colorbar\":{\"outlinewidth\":0,\"tickcolor\":\"rgb(36,36,36)\",\"ticklen\":8,\"ticks\":\"outside\",\"tickwidth\":2},\"colorscale\":[[0.0,\"rgb(2,4,25)\"],[0.06274509803921569,\"rgb(24,15,41)\"],[0.12549019607843137,\"rgb(47,23,57)\"],[0.18823529411764706,\"rgb(71,28,72)\"],[0.25098039215686274,\"rgb(97,30,82)\"],[0.3137254901960784,\"rgb(123,30,89)\"],[0.3764705882352941,\"rgb(150,27,91)\"],[0.4392156862745098,\"rgb(177,22,88)\"],[0.5019607843137255,\"rgb(203,26,79)\"],[0.5647058823529412,\"rgb(223,47,67)\"],[0.6274509803921569,\"rgb(236,76,61)\"],[0.6901960784313725,\"rgb(242,107,73)\"],[0.7529411764705882,\"rgb(244,135,95)\"],[0.8156862745098039,\"rgb(245,162,122)\"],[0.8784313725490196,\"rgb(246,188,153)\"],[0.9411764705882353,\"rgb(247,212,187)\"],[1.0,\"rgb(250,234,220)\"]],\"type\":\"heatmap\"}],\"histogram2dcontour\":[{\"colorbar\":{\"outlinewidth\":0,\"tickcolor\":\"rgb(36,36,36)\",\"ticklen\":8,\"ticks\":\"outside\",\"tickwidth\":2},\"colorscale\":[[0.0,\"rgb(2,4,25)\"],[0.06274509803921569,\"rgb(24,15,41)\"],[0.12549019607843137,\"rgb(47,23,57)\"],[0.18823529411764706,\"rgb(71,28,72)\"],[0.25098039215686274,\"rgb(97,30,82)\"],[0.3137254901960784,\"rgb(123,30,89)\"],[0.3764705882352941,\"rgb(150,27,91)\"],[0.4392156862745098,\"rgb(177,22,88)\"],[0.5019607843137255,\"rgb(203,26,79)\"],[0.5647058823529412,\"rgb(223,47,67)\"],[0.6274509803921569,\"rgb(236,76,61)\"],[0.6901960784313725,\"rgb(242,107,73)\"],[0.7529411764705882,\"rgb(244,135,95)\"],[0.8156862745098039,\"rgb(245,162,122)\"],[0.8784313725490196,\"rgb(246,188,153)\"],[0.9411764705882353,\"rgb(247,212,187)\"],[1.0,\"rgb(250,234,220)\"]],\"type\":\"histogram2dcontour\"}],\"histogram2d\":[{\"colorbar\":{\"outlinewidth\":0,\"tickcolor\":\"rgb(36,36,36)\",\"ticklen\":8,\"ticks\":\"outside\",\"tickwidth\":2},\"colorscale\":[[0.0,\"rgb(2,4,25)\"],[0.06274509803921569,\"rgb(24,15,41)\"],[0.12549019607843137,\"rgb(47,23,57)\"],[0.18823529411764706,\"rgb(71,28,72)\"],[0.25098039215686274,\"rgb(97,30,82)\"],[0.3137254901960784,\"rgb(123,30,89)\"],[0.3764705882352941,\"rgb(150,27,91)\"],[0.4392156862745098,\"rgb(177,22,88)\"],[0.5019607843137255,\"rgb(203,26,79)\"],[0.5647058823529412,\"rgb(223,47,67)\"],[0.6274509803921569,\"rgb(236,76,61)\"],[0.6901960784313725,\"rgb(242,107,73)\"],[0.7529411764705882,\"rgb(244,135,95)\"],[0.8156862745098039,\"rgb(245,162,122)\"],[0.8784313725490196,\"rgb(246,188,153)\"],[0.9411764705882353,\"rgb(247,212,187)\"],[1.0,\"rgb(250,234,220)\"]],\"type\":\"histogram2d\"}],\"histogram\":[{\"marker\":{\"pattern\":{\"fillmode\":\"overlay\",\"size\":10,\"solidity\":0.2}},\"type\":\"histogram\"}],\"mesh3d\":[{\"colorbar\":{\"outlinewidth\":0,\"tickcolor\":\"rgb(36,36,36)\",\"ticklen\":8,\"ticks\":\"outside\",\"tickwidth\":2},\"type\":\"mesh3d\"}],\"parcoords\":[{\"line\":{\"colorbar\":{\"outlinewidth\":0,\"tickcolor\":\"rgb(36,36,36)\",\"ticklen\":8,\"ticks\":\"outside\",\"tickwidth\":2}},\"type\":\"parcoords\"}],\"pie\":[{\"automargin\":true,\"type\":\"pie\"}],\"scatter3d\":[{\"line\":{\"colorbar\":{\"outlinewidth\":0,\"tickcolor\":\"rgb(36,36,36)\",\"ticklen\":8,\"ticks\":\"outside\",\"tickwidth\":2}},\"marker\":{\"colorbar\":{\"outlinewidth\":0,\"tickcolor\":\"rgb(36,36,36)\",\"ticklen\":8,\"ticks\":\"outside\",\"tickwidth\":2}},\"type\":\"scatter3d\"}],\"scattercarpet\":[{\"marker\":{\"colorbar\":{\"outlinewidth\":0,\"tickcolor\":\"rgb(36,36,36)\",\"ticklen\":8,\"ticks\":\"outside\",\"tickwidth\":2}},\"type\":\"scattercarpet\"}],\"scattergeo\":[{\"marker\":{\"colorbar\":{\"outlinewidth\":0,\"tickcolor\":\"rgb(36,36,36)\",\"ticklen\":8,\"ticks\":\"outside\",\"tickwidth\":2}},\"type\":\"scattergeo\"}],\"scattergl\":[{\"marker\":{\"colorbar\":{\"outlinewidth\":0,\"tickcolor\":\"rgb(36,36,36)\",\"ticklen\":8,\"ticks\":\"outside\",\"tickwidth\":2}},\"type\":\"scattergl\"}],\"scattermapbox\":[{\"marker\":{\"colorbar\":{\"outlinewidth\":0,\"tickcolor\":\"rgb(36,36,36)\",\"ticklen\":8,\"ticks\":\"outside\",\"tickwidth\":2}},\"type\":\"scattermapbox\"}],\"scatterpolargl\":[{\"marker\":{\"colorbar\":{\"outlinewidth\":0,\"tickcolor\":\"rgb(36,36,36)\",\"ticklen\":8,\"ticks\":\"outside\",\"tickwidth\":2}},\"type\":\"scatterpolargl\"}],\"scatterpolar\":[{\"marker\":{\"colorbar\":{\"outlinewidth\":0,\"tickcolor\":\"rgb(36,36,36)\",\"ticklen\":8,\"ticks\":\"outside\",\"tickwidth\":2}},\"type\":\"scatterpolar\"}],\"scatter\":[{\"fillpattern\":{\"fillmode\":\"overlay\",\"size\":10,\"solidity\":0.2},\"type\":\"scatter\"}],\"scatterternary\":[{\"marker\":{\"colorbar\":{\"outlinewidth\":0,\"tickcolor\":\"rgb(36,36,36)\",\"ticklen\":8,\"ticks\":\"outside\",\"tickwidth\":2}},\"type\":\"scatterternary\"}],\"surface\":[{\"colorbar\":{\"outlinewidth\":0,\"tickcolor\":\"rgb(36,36,36)\",\"ticklen\":8,\"ticks\":\"outside\",\"tickwidth\":2},\"colorscale\":[[0.0,\"rgb(2,4,25)\"],[0.06274509803921569,\"rgb(24,15,41)\"],[0.12549019607843137,\"rgb(47,23,57)\"],[0.18823529411764706,\"rgb(71,28,72)\"],[0.25098039215686274,\"rgb(97,30,82)\"],[0.3137254901960784,\"rgb(123,30,89)\"],[0.3764705882352941,\"rgb(150,27,91)\"],[0.4392156862745098,\"rgb(177,22,88)\"],[0.5019607843137255,\"rgb(203,26,79)\"],[0.5647058823529412,\"rgb(223,47,67)\"],[0.6274509803921569,\"rgb(236,76,61)\"],[0.6901960784313725,\"rgb(242,107,73)\"],[0.7529411764705882,\"rgb(244,135,95)\"],[0.8156862745098039,\"rgb(245,162,122)\"],[0.8784313725490196,\"rgb(246,188,153)\"],[0.9411764705882353,\"rgb(247,212,187)\"],[1.0,\"rgb(250,234,220)\"]],\"type\":\"surface\"}],\"table\":[{\"cells\":{\"fill\":{\"color\":\"rgb(231,231,240)\"},\"line\":{\"color\":\"white\"}},\"header\":{\"fill\":{\"color\":\"rgb(183,183,191)\"},\"line\":{\"color\":\"white\"}},\"type\":\"table\"}]},\"layout\":{\"annotationdefaults\":{\"arrowcolor\":\"rgb(67,103,167)\"},\"autotypenumbers\":\"strict\",\"coloraxis\":{\"colorbar\":{\"outlinewidth\":0,\"tickcolor\":\"rgb(36,36,36)\",\"ticklen\":8,\"ticks\":\"outside\",\"tickwidth\":2}},\"colorscale\":{\"sequential\":[[0.0,\"rgb(2,4,25)\"],[0.06274509803921569,\"rgb(24,15,41)\"],[0.12549019607843137,\"rgb(47,23,57)\"],[0.18823529411764706,\"rgb(71,28,72)\"],[0.25098039215686274,\"rgb(97,30,82)\"],[0.3137254901960784,\"rgb(123,30,89)\"],[0.3764705882352941,\"rgb(150,27,91)\"],[0.4392156862745098,\"rgb(177,22,88)\"],[0.5019607843137255,\"rgb(203,26,79)\"],[0.5647058823529412,\"rgb(223,47,67)\"],[0.6274509803921569,\"rgb(236,76,61)\"],[0.6901960784313725,\"rgb(242,107,73)\"],[0.7529411764705882,\"rgb(244,135,95)\"],[0.8156862745098039,\"rgb(245,162,122)\"],[0.8784313725490196,\"rgb(246,188,153)\"],[0.9411764705882353,\"rgb(247,212,187)\"],[1.0,\"rgb(250,234,220)\"]],\"sequentialminus\":[[0.0,\"rgb(2,4,25)\"],[0.06274509803921569,\"rgb(24,15,41)\"],[0.12549019607843137,\"rgb(47,23,57)\"],[0.18823529411764706,\"rgb(71,28,72)\"],[0.25098039215686274,\"rgb(97,30,82)\"],[0.3137254901960784,\"rgb(123,30,89)\"],[0.3764705882352941,\"rgb(150,27,91)\"],[0.4392156862745098,\"rgb(177,22,88)\"],[0.5019607843137255,\"rgb(203,26,79)\"],[0.5647058823529412,\"rgb(223,47,67)\"],[0.6274509803921569,\"rgb(236,76,61)\"],[0.6901960784313725,\"rgb(242,107,73)\"],[0.7529411764705882,\"rgb(244,135,95)\"],[0.8156862745098039,\"rgb(245,162,122)\"],[0.8784313725490196,\"rgb(246,188,153)\"],[0.9411764705882353,\"rgb(247,212,187)\"],[1.0,\"rgb(250,234,220)\"]]},\"colorway\":[\"rgb(76,114,176)\",\"rgb(221,132,82)\",\"rgb(85,168,104)\",\"rgb(196,78,82)\",\"rgb(129,114,179)\",\"rgb(147,120,96)\",\"rgb(218,139,195)\",\"rgb(140,140,140)\",\"rgb(204,185,116)\",\"rgb(100,181,205)\"],\"font\":{\"color\":\"rgb(36,36,36)\"},\"geo\":{\"bgcolor\":\"white\",\"lakecolor\":\"white\",\"landcolor\":\"rgb(234,234,242)\",\"showlakes\":true,\"showland\":true,\"subunitcolor\":\"white\"},\"hoverlabel\":{\"align\":\"left\"},\"hovermode\":\"closest\",\"paper_bgcolor\":\"white\",\"plot_bgcolor\":\"rgb(234,234,242)\",\"polar\":{\"angularaxis\":{\"gridcolor\":\"white\",\"linecolor\":\"white\",\"showgrid\":true,\"ticks\":\"\"},\"bgcolor\":\"rgb(234,234,242)\",\"radialaxis\":{\"gridcolor\":\"white\",\"linecolor\":\"white\",\"showgrid\":true,\"ticks\":\"\"}},\"scene\":{\"xaxis\":{\"backgroundcolor\":\"rgb(234,234,242)\",\"gridcolor\":\"white\",\"gridwidth\":2,\"linecolor\":\"white\",\"showbackground\":true,\"showgrid\":true,\"ticks\":\"\",\"zerolinecolor\":\"white\"},\"yaxis\":{\"backgroundcolor\":\"rgb(234,234,242)\",\"gridcolor\":\"white\",\"gridwidth\":2,\"linecolor\":\"white\",\"showbackground\":true,\"showgrid\":true,\"ticks\":\"\",\"zerolinecolor\":\"white\"},\"zaxis\":{\"backgroundcolor\":\"rgb(234,234,242)\",\"gridcolor\":\"white\",\"gridwidth\":2,\"linecolor\":\"white\",\"showbackground\":true,\"showgrid\":true,\"ticks\":\"\",\"zerolinecolor\":\"white\"}},\"shapedefaults\":{\"fillcolor\":\"rgb(67,103,167)\",\"line\":{\"width\":0},\"opacity\":0.5},\"ternary\":{\"aaxis\":{\"gridcolor\":\"white\",\"linecolor\":\"white\",\"showgrid\":true,\"ticks\":\"\"},\"baxis\":{\"gridcolor\":\"white\",\"linecolor\":\"white\",\"showgrid\":true,\"ticks\":\"\"},\"bgcolor\":\"rgb(234,234,242)\",\"caxis\":{\"gridcolor\":\"white\",\"linecolor\":\"white\",\"showgrid\":true,\"ticks\":\"\"}},\"xaxis\":{\"automargin\":true,\"gridcolor\":\"white\",\"linecolor\":\"white\",\"showgrid\":true,\"ticks\":\"\",\"title\":{\"standoff\":15},\"zerolinecolor\":\"white\"},\"yaxis\":{\"automargin\":true,\"gridcolor\":\"white\",\"linecolor\":\"white\",\"showgrid\":true,\"ticks\":\"\",\"title\":{\"standoff\":15},\"zerolinecolor\":\"white\"}}},\"xaxis\":{\"anchor\":\"y\",\"domain\":[0.0,1.0],\"title\":{},\"autorange\":true,\"tickangle\":-90,\"showgrid\":false},\"yaxis\":{\"anchor\":\"x\",\"domain\":[0.0,1.0],\"title\":{\"text\":\"Response Latency (s)\"},\"range\":[0,9.483975172042847]},\"legend\":{\"title\":{\"text\":\"Supercategory\"},\"tracegroupgap\":0},\"title\":{\"text\":\"Response Latency per Question Type\"},\"boxmode\":\"overlay\",\"showlegend\":true,\"width\":750,\"height\":500},                        {\"responsive\": true}                    ).then(function(){\n",
       "                            \n",
       "var gd = document.getElementById('e3bc4639-b8b9-41be-904f-7890615b613a');\n",
       "var x = new MutationObserver(function (mutations, observer) {{\n",
       "        var display = window.getComputedStyle(gd).display;\n",
       "        if (!display || display === 'none') {{\n",
       "            console.log([gd, 'removed!']);\n",
       "            Plotly.purge(gd);\n",
       "            observer.disconnect();\n",
       "        }}\n",
       "}});\n",
       "\n",
       "// Listen for the removal of the full notebook cells\n",
       "var notebookContainer = gd.closest('#notebook-container');\n",
       "if (notebookContainer) {{\n",
       "    x.observe(notebookContainer, {childList: true});\n",
       "}}\n",
       "\n",
       "// Listen for the clearing of the current output cell\n",
       "var outputEl = gd.closest('.output');\n",
       "if (outputEl) {{\n",
       "    x.observe(outputEl, {childList: true});\n",
       "}}\n",
       "\n",
       "                        })                };                });            </script>        </div>"
      ]
     },
     "metadata": {},
     "output_type": "display_data"
    }
   ],
   "source": [
    "azure_generator_only_wf_system: WorkflowSystem = init_stored_wf_system(dbi, azure_generator_only_config, BACKEND_API_URL)\n",
    "avg_response_time = get_average_response_time(azure_generator_only_wf_system)\n",
    "df__response_time, img__response_time = analyze_and_visualize_response_time_per_category(azure_generator_only_wf_system)\n",
    "img__response_time.update_layout(width=screen_width, height=screen_height)\n",
    "\n",
    "\n",
    "print(f\"Average response latency: {avg_response_time:.2f} s\")\n",
    "for supercat in all_supercategories:\n",
    "    entry = df__response_time[df__response_time['subcategory'].isna() & (df__response_time['supercategory'] == supercat.value)]['avg_response_latency']\n",
    "    if len(entry) == 0:\n",
    "        print(f\"No response latency for {supercat.value} questions\")\n",
    "    else:\n",
    "        print(f\"Response latency for {supercat.value} questions: {entry.iloc[0]:.2f} s\")\n",
    "        \n",
    "img__response_time"
   ]
  },
  {
   "attachments": {},
   "cell_type": "markdown",
   "id": "7b15edfd",
   "metadata": {},
   "source": [
    "### Correctness of overall system"
   ]
  },
  {
   "cell_type": "code",
   "execution_count": 19,
   "id": "4cbe4db8",
   "metadata": {},
   "outputs": [
    {
     "name": "stdout",
     "output_type": "stream",
     "text": [
      "Average correctness: 3.11\n",
      "Correctness score for Simple questions: 3.25\n",
      "Correctness score for Complex questions: 2.67\n",
      "Correctness score for Negative questions: 3.50\n"
     ]
    },
    {
     "data": {
      "application/vnd.plotly.v1+json": {
       "config": {
        "plotlyServerURL": "https://plot.ly"
       },
       "data": [
        {
         "alignmentgroup": "True",
         "hovertemplate": "Supercategory=Simple<br>Subcategory=%{x}<br>Correctness Score=%{y}<extra></extra>",
         "legendgroup": "Simple",
         "line": {
          "width": 1
         },
         "marker": {
          "color": "#33691E",
          "size": 3
         },
         "name": "Simple",
         "notched": false,
         "offsetgroup": "Simple",
         "orientation": "v",
         "showlegend": true,
         "type": "box",
         "x": [
          "Text",
          "Text",
          "Text",
          "Text",
          "Table",
          "Image",
          "Recommendation"
         ],
         "x0": " ",
         "xaxis": "x",
         "y": [
          1,
          5,
          4,
          3,
          null,
          null,
          null
         ],
         "y0": " ",
         "yaxis": "y"
        },
        {
         "alignmentgroup": "True",
         "hovertemplate": "Supercategory=Complex<br>Subcategory=%{x}<br>Correctness Score=%{y}<extra></extra>",
         "legendgroup": "Complex",
         "line": {
          "width": 1
         },
         "marker": {
          "color": "#0D47A1",
          "size": 3
         },
         "name": "Complex",
         "notched": false,
         "offsetgroup": "Complex",
         "orientation": "v",
         "showlegend": true,
         "type": "box",
         "x": [
          "Synonym",
          "Multiple sections",
          "Multiple guidelines",
          "Substeps",
          "Substeps"
         ],
         "x0": " ",
         "xaxis": "x",
         "y": [
          2,
          null,
          null,
          1,
          5
         ],
         "y0": " ",
         "yaxis": "y"
        },
        {
         "alignmentgroup": "True",
         "hovertemplate": "Supercategory=Negative<br>Subcategory=%{x}<br>Correctness Score=%{y}<extra></extra>",
         "legendgroup": "Negative",
         "line": {
          "width": 1
         },
         "marker": {
          "color": "#EF6C00",
          "size": 3
         },
         "name": "Negative",
         "notched": false,
         "offsetgroup": "Negative",
         "orientation": "v",
         "showlegend": true,
         "type": "box",
         "x": [
          "Outside medicine",
          "Outside OMS",
          "Outside guidelines",
          "Patient-specific",
          "Broken input",
          "False assumption"
         ],
         "x0": " ",
         "xaxis": "x",
         "y": [
          null,
          null,
          4,
          null,
          null,
          3
         ],
         "y0": " ",
         "yaxis": "y"
        }
       ],
       "layout": {
        "boxmode": "overlay",
        "height": 500,
        "legend": {
         "title": {
          "text": "Supercategory"
         },
         "tracegroupgap": 0
        },
        "showlegend": true,
        "template": {
         "data": {
          "bar": [
           {
            "error_x": {
             "color": "rgb(36,36,36)"
            },
            "error_y": {
             "color": "rgb(36,36,36)"
            },
            "marker": {
             "line": {
              "color": "rgb(234,234,242)",
              "width": 0.5
             },
             "pattern": {
              "fillmode": "overlay",
              "size": 10,
              "solidity": 0.2
             }
            },
            "type": "bar"
           }
          ],
          "barpolar": [
           {
            "marker": {
             "line": {
              "color": "rgb(234,234,242)",
              "width": 0.5
             },
             "pattern": {
              "fillmode": "overlay",
              "size": 10,
              "solidity": 0.2
             }
            },
            "type": "barpolar"
           }
          ],
          "carpet": [
           {
            "aaxis": {
             "endlinecolor": "rgb(36,36,36)",
             "gridcolor": "white",
             "linecolor": "white",
             "minorgridcolor": "white",
             "startlinecolor": "rgb(36,36,36)"
            },
            "baxis": {
             "endlinecolor": "rgb(36,36,36)",
             "gridcolor": "white",
             "linecolor": "white",
             "minorgridcolor": "white",
             "startlinecolor": "rgb(36,36,36)"
            },
            "type": "carpet"
           }
          ],
          "choropleth": [
           {
            "colorbar": {
             "outlinewidth": 0,
             "tickcolor": "rgb(36,36,36)",
             "ticklen": 8,
             "ticks": "outside",
             "tickwidth": 2
            },
            "type": "choropleth"
           }
          ],
          "contour": [
           {
            "colorbar": {
             "outlinewidth": 0,
             "tickcolor": "rgb(36,36,36)",
             "ticklen": 8,
             "ticks": "outside",
             "tickwidth": 2
            },
            "colorscale": [
             [
              0,
              "rgb(2,4,25)"
             ],
             [
              0.06274509803921569,
              "rgb(24,15,41)"
             ],
             [
              0.12549019607843137,
              "rgb(47,23,57)"
             ],
             [
              0.18823529411764706,
              "rgb(71,28,72)"
             ],
             [
              0.25098039215686274,
              "rgb(97,30,82)"
             ],
             [
              0.3137254901960784,
              "rgb(123,30,89)"
             ],
             [
              0.3764705882352941,
              "rgb(150,27,91)"
             ],
             [
              0.4392156862745098,
              "rgb(177,22,88)"
             ],
             [
              0.5019607843137255,
              "rgb(203,26,79)"
             ],
             [
              0.5647058823529412,
              "rgb(223,47,67)"
             ],
             [
              0.6274509803921569,
              "rgb(236,76,61)"
             ],
             [
              0.6901960784313725,
              "rgb(242,107,73)"
             ],
             [
              0.7529411764705882,
              "rgb(244,135,95)"
             ],
             [
              0.8156862745098039,
              "rgb(245,162,122)"
             ],
             [
              0.8784313725490196,
              "rgb(246,188,153)"
             ],
             [
              0.9411764705882353,
              "rgb(247,212,187)"
             ],
             [
              1,
              "rgb(250,234,220)"
             ]
            ],
            "type": "contour"
           }
          ],
          "contourcarpet": [
           {
            "colorbar": {
             "outlinewidth": 0,
             "tickcolor": "rgb(36,36,36)",
             "ticklen": 8,
             "ticks": "outside",
             "tickwidth": 2
            },
            "type": "contourcarpet"
           }
          ],
          "heatmap": [
           {
            "colorbar": {
             "outlinewidth": 0,
             "tickcolor": "rgb(36,36,36)",
             "ticklen": 8,
             "ticks": "outside",
             "tickwidth": 2
            },
            "colorscale": [
             [
              0,
              "rgb(2,4,25)"
             ],
             [
              0.06274509803921569,
              "rgb(24,15,41)"
             ],
             [
              0.12549019607843137,
              "rgb(47,23,57)"
             ],
             [
              0.18823529411764706,
              "rgb(71,28,72)"
             ],
             [
              0.25098039215686274,
              "rgb(97,30,82)"
             ],
             [
              0.3137254901960784,
              "rgb(123,30,89)"
             ],
             [
              0.3764705882352941,
              "rgb(150,27,91)"
             ],
             [
              0.4392156862745098,
              "rgb(177,22,88)"
             ],
             [
              0.5019607843137255,
              "rgb(203,26,79)"
             ],
             [
              0.5647058823529412,
              "rgb(223,47,67)"
             ],
             [
              0.6274509803921569,
              "rgb(236,76,61)"
             ],
             [
              0.6901960784313725,
              "rgb(242,107,73)"
             ],
             [
              0.7529411764705882,
              "rgb(244,135,95)"
             ],
             [
              0.8156862745098039,
              "rgb(245,162,122)"
             ],
             [
              0.8784313725490196,
              "rgb(246,188,153)"
             ],
             [
              0.9411764705882353,
              "rgb(247,212,187)"
             ],
             [
              1,
              "rgb(250,234,220)"
             ]
            ],
            "type": "heatmap"
           }
          ],
          "heatmapgl": [
           {
            "colorbar": {
             "outlinewidth": 0,
             "tickcolor": "rgb(36,36,36)",
             "ticklen": 8,
             "ticks": "outside",
             "tickwidth": 2
            },
            "colorscale": [
             [
              0,
              "rgb(2,4,25)"
             ],
             [
              0.06274509803921569,
              "rgb(24,15,41)"
             ],
             [
              0.12549019607843137,
              "rgb(47,23,57)"
             ],
             [
              0.18823529411764706,
              "rgb(71,28,72)"
             ],
             [
              0.25098039215686274,
              "rgb(97,30,82)"
             ],
             [
              0.3137254901960784,
              "rgb(123,30,89)"
             ],
             [
              0.3764705882352941,
              "rgb(150,27,91)"
             ],
             [
              0.4392156862745098,
              "rgb(177,22,88)"
             ],
             [
              0.5019607843137255,
              "rgb(203,26,79)"
             ],
             [
              0.5647058823529412,
              "rgb(223,47,67)"
             ],
             [
              0.6274509803921569,
              "rgb(236,76,61)"
             ],
             [
              0.6901960784313725,
              "rgb(242,107,73)"
             ],
             [
              0.7529411764705882,
              "rgb(244,135,95)"
             ],
             [
              0.8156862745098039,
              "rgb(245,162,122)"
             ],
             [
              0.8784313725490196,
              "rgb(246,188,153)"
             ],
             [
              0.9411764705882353,
              "rgb(247,212,187)"
             ],
             [
              1,
              "rgb(250,234,220)"
             ]
            ],
            "type": "heatmapgl"
           }
          ],
          "histogram": [
           {
            "marker": {
             "pattern": {
              "fillmode": "overlay",
              "size": 10,
              "solidity": 0.2
             }
            },
            "type": "histogram"
           }
          ],
          "histogram2d": [
           {
            "colorbar": {
             "outlinewidth": 0,
             "tickcolor": "rgb(36,36,36)",
             "ticklen": 8,
             "ticks": "outside",
             "tickwidth": 2
            },
            "colorscale": [
             [
              0,
              "rgb(2,4,25)"
             ],
             [
              0.06274509803921569,
              "rgb(24,15,41)"
             ],
             [
              0.12549019607843137,
              "rgb(47,23,57)"
             ],
             [
              0.18823529411764706,
              "rgb(71,28,72)"
             ],
             [
              0.25098039215686274,
              "rgb(97,30,82)"
             ],
             [
              0.3137254901960784,
              "rgb(123,30,89)"
             ],
             [
              0.3764705882352941,
              "rgb(150,27,91)"
             ],
             [
              0.4392156862745098,
              "rgb(177,22,88)"
             ],
             [
              0.5019607843137255,
              "rgb(203,26,79)"
             ],
             [
              0.5647058823529412,
              "rgb(223,47,67)"
             ],
             [
              0.6274509803921569,
              "rgb(236,76,61)"
             ],
             [
              0.6901960784313725,
              "rgb(242,107,73)"
             ],
             [
              0.7529411764705882,
              "rgb(244,135,95)"
             ],
             [
              0.8156862745098039,
              "rgb(245,162,122)"
             ],
             [
              0.8784313725490196,
              "rgb(246,188,153)"
             ],
             [
              0.9411764705882353,
              "rgb(247,212,187)"
             ],
             [
              1,
              "rgb(250,234,220)"
             ]
            ],
            "type": "histogram2d"
           }
          ],
          "histogram2dcontour": [
           {
            "colorbar": {
             "outlinewidth": 0,
             "tickcolor": "rgb(36,36,36)",
             "ticklen": 8,
             "ticks": "outside",
             "tickwidth": 2
            },
            "colorscale": [
             [
              0,
              "rgb(2,4,25)"
             ],
             [
              0.06274509803921569,
              "rgb(24,15,41)"
             ],
             [
              0.12549019607843137,
              "rgb(47,23,57)"
             ],
             [
              0.18823529411764706,
              "rgb(71,28,72)"
             ],
             [
              0.25098039215686274,
              "rgb(97,30,82)"
             ],
             [
              0.3137254901960784,
              "rgb(123,30,89)"
             ],
             [
              0.3764705882352941,
              "rgb(150,27,91)"
             ],
             [
              0.4392156862745098,
              "rgb(177,22,88)"
             ],
             [
              0.5019607843137255,
              "rgb(203,26,79)"
             ],
             [
              0.5647058823529412,
              "rgb(223,47,67)"
             ],
             [
              0.6274509803921569,
              "rgb(236,76,61)"
             ],
             [
              0.6901960784313725,
              "rgb(242,107,73)"
             ],
             [
              0.7529411764705882,
              "rgb(244,135,95)"
             ],
             [
              0.8156862745098039,
              "rgb(245,162,122)"
             ],
             [
              0.8784313725490196,
              "rgb(246,188,153)"
             ],
             [
              0.9411764705882353,
              "rgb(247,212,187)"
             ],
             [
              1,
              "rgb(250,234,220)"
             ]
            ],
            "type": "histogram2dcontour"
           }
          ],
          "mesh3d": [
           {
            "colorbar": {
             "outlinewidth": 0,
             "tickcolor": "rgb(36,36,36)",
             "ticklen": 8,
             "ticks": "outside",
             "tickwidth": 2
            },
            "type": "mesh3d"
           }
          ],
          "parcoords": [
           {
            "line": {
             "colorbar": {
              "outlinewidth": 0,
              "tickcolor": "rgb(36,36,36)",
              "ticklen": 8,
              "ticks": "outside",
              "tickwidth": 2
             }
            },
            "type": "parcoords"
           }
          ],
          "pie": [
           {
            "automargin": true,
            "type": "pie"
           }
          ],
          "scatter": [
           {
            "fillpattern": {
             "fillmode": "overlay",
             "size": 10,
             "solidity": 0.2
            },
            "type": "scatter"
           }
          ],
          "scatter3d": [
           {
            "line": {
             "colorbar": {
              "outlinewidth": 0,
              "tickcolor": "rgb(36,36,36)",
              "ticklen": 8,
              "ticks": "outside",
              "tickwidth": 2
             }
            },
            "marker": {
             "colorbar": {
              "outlinewidth": 0,
              "tickcolor": "rgb(36,36,36)",
              "ticklen": 8,
              "ticks": "outside",
              "tickwidth": 2
             }
            },
            "type": "scatter3d"
           }
          ],
          "scattercarpet": [
           {
            "marker": {
             "colorbar": {
              "outlinewidth": 0,
              "tickcolor": "rgb(36,36,36)",
              "ticklen": 8,
              "ticks": "outside",
              "tickwidth": 2
             }
            },
            "type": "scattercarpet"
           }
          ],
          "scattergeo": [
           {
            "marker": {
             "colorbar": {
              "outlinewidth": 0,
              "tickcolor": "rgb(36,36,36)",
              "ticklen": 8,
              "ticks": "outside",
              "tickwidth": 2
             }
            },
            "type": "scattergeo"
           }
          ],
          "scattergl": [
           {
            "marker": {
             "colorbar": {
              "outlinewidth": 0,
              "tickcolor": "rgb(36,36,36)",
              "ticklen": 8,
              "ticks": "outside",
              "tickwidth": 2
             }
            },
            "type": "scattergl"
           }
          ],
          "scattermapbox": [
           {
            "marker": {
             "colorbar": {
              "outlinewidth": 0,
              "tickcolor": "rgb(36,36,36)",
              "ticklen": 8,
              "ticks": "outside",
              "tickwidth": 2
             }
            },
            "type": "scattermapbox"
           }
          ],
          "scatterpolar": [
           {
            "marker": {
             "colorbar": {
              "outlinewidth": 0,
              "tickcolor": "rgb(36,36,36)",
              "ticklen": 8,
              "ticks": "outside",
              "tickwidth": 2
             }
            },
            "type": "scatterpolar"
           }
          ],
          "scatterpolargl": [
           {
            "marker": {
             "colorbar": {
              "outlinewidth": 0,
              "tickcolor": "rgb(36,36,36)",
              "ticklen": 8,
              "ticks": "outside",
              "tickwidth": 2
             }
            },
            "type": "scatterpolargl"
           }
          ],
          "scatterternary": [
           {
            "marker": {
             "colorbar": {
              "outlinewidth": 0,
              "tickcolor": "rgb(36,36,36)",
              "ticklen": 8,
              "ticks": "outside",
              "tickwidth": 2
             }
            },
            "type": "scatterternary"
           }
          ],
          "surface": [
           {
            "colorbar": {
             "outlinewidth": 0,
             "tickcolor": "rgb(36,36,36)",
             "ticklen": 8,
             "ticks": "outside",
             "tickwidth": 2
            },
            "colorscale": [
             [
              0,
              "rgb(2,4,25)"
             ],
             [
              0.06274509803921569,
              "rgb(24,15,41)"
             ],
             [
              0.12549019607843137,
              "rgb(47,23,57)"
             ],
             [
              0.18823529411764706,
              "rgb(71,28,72)"
             ],
             [
              0.25098039215686274,
              "rgb(97,30,82)"
             ],
             [
              0.3137254901960784,
              "rgb(123,30,89)"
             ],
             [
              0.3764705882352941,
              "rgb(150,27,91)"
             ],
             [
              0.4392156862745098,
              "rgb(177,22,88)"
             ],
             [
              0.5019607843137255,
              "rgb(203,26,79)"
             ],
             [
              0.5647058823529412,
              "rgb(223,47,67)"
             ],
             [
              0.6274509803921569,
              "rgb(236,76,61)"
             ],
             [
              0.6901960784313725,
              "rgb(242,107,73)"
             ],
             [
              0.7529411764705882,
              "rgb(244,135,95)"
             ],
             [
              0.8156862745098039,
              "rgb(245,162,122)"
             ],
             [
              0.8784313725490196,
              "rgb(246,188,153)"
             ],
             [
              0.9411764705882353,
              "rgb(247,212,187)"
             ],
             [
              1,
              "rgb(250,234,220)"
             ]
            ],
            "type": "surface"
           }
          ],
          "table": [
           {
            "cells": {
             "fill": {
              "color": "rgb(231,231,240)"
             },
             "line": {
              "color": "white"
             }
            },
            "header": {
             "fill": {
              "color": "rgb(183,183,191)"
             },
             "line": {
              "color": "white"
             }
            },
            "type": "table"
           }
          ]
         },
         "layout": {
          "annotationdefaults": {
           "arrowcolor": "rgb(67,103,167)"
          },
          "autotypenumbers": "strict",
          "coloraxis": {
           "colorbar": {
            "outlinewidth": 0,
            "tickcolor": "rgb(36,36,36)",
            "ticklen": 8,
            "ticks": "outside",
            "tickwidth": 2
           }
          },
          "colorscale": {
           "sequential": [
            [
             0,
             "rgb(2,4,25)"
            ],
            [
             0.06274509803921569,
             "rgb(24,15,41)"
            ],
            [
             0.12549019607843137,
             "rgb(47,23,57)"
            ],
            [
             0.18823529411764706,
             "rgb(71,28,72)"
            ],
            [
             0.25098039215686274,
             "rgb(97,30,82)"
            ],
            [
             0.3137254901960784,
             "rgb(123,30,89)"
            ],
            [
             0.3764705882352941,
             "rgb(150,27,91)"
            ],
            [
             0.4392156862745098,
             "rgb(177,22,88)"
            ],
            [
             0.5019607843137255,
             "rgb(203,26,79)"
            ],
            [
             0.5647058823529412,
             "rgb(223,47,67)"
            ],
            [
             0.6274509803921569,
             "rgb(236,76,61)"
            ],
            [
             0.6901960784313725,
             "rgb(242,107,73)"
            ],
            [
             0.7529411764705882,
             "rgb(244,135,95)"
            ],
            [
             0.8156862745098039,
             "rgb(245,162,122)"
            ],
            [
             0.8784313725490196,
             "rgb(246,188,153)"
            ],
            [
             0.9411764705882353,
             "rgb(247,212,187)"
            ],
            [
             1,
             "rgb(250,234,220)"
            ]
           ],
           "sequentialminus": [
            [
             0,
             "rgb(2,4,25)"
            ],
            [
             0.06274509803921569,
             "rgb(24,15,41)"
            ],
            [
             0.12549019607843137,
             "rgb(47,23,57)"
            ],
            [
             0.18823529411764706,
             "rgb(71,28,72)"
            ],
            [
             0.25098039215686274,
             "rgb(97,30,82)"
            ],
            [
             0.3137254901960784,
             "rgb(123,30,89)"
            ],
            [
             0.3764705882352941,
             "rgb(150,27,91)"
            ],
            [
             0.4392156862745098,
             "rgb(177,22,88)"
            ],
            [
             0.5019607843137255,
             "rgb(203,26,79)"
            ],
            [
             0.5647058823529412,
             "rgb(223,47,67)"
            ],
            [
             0.6274509803921569,
             "rgb(236,76,61)"
            ],
            [
             0.6901960784313725,
             "rgb(242,107,73)"
            ],
            [
             0.7529411764705882,
             "rgb(244,135,95)"
            ],
            [
             0.8156862745098039,
             "rgb(245,162,122)"
            ],
            [
             0.8784313725490196,
             "rgb(246,188,153)"
            ],
            [
             0.9411764705882353,
             "rgb(247,212,187)"
            ],
            [
             1,
             "rgb(250,234,220)"
            ]
           ]
          },
          "colorway": [
           "rgb(76,114,176)",
           "rgb(221,132,82)",
           "rgb(85,168,104)",
           "rgb(196,78,82)",
           "rgb(129,114,179)",
           "rgb(147,120,96)",
           "rgb(218,139,195)",
           "rgb(140,140,140)",
           "rgb(204,185,116)",
           "rgb(100,181,205)"
          ],
          "font": {
           "color": "rgb(36,36,36)"
          },
          "geo": {
           "bgcolor": "white",
           "lakecolor": "white",
           "landcolor": "rgb(234,234,242)",
           "showlakes": true,
           "showland": true,
           "subunitcolor": "white"
          },
          "hoverlabel": {
           "align": "left"
          },
          "hovermode": "closest",
          "paper_bgcolor": "white",
          "plot_bgcolor": "rgb(234,234,242)",
          "polar": {
           "angularaxis": {
            "gridcolor": "white",
            "linecolor": "white",
            "showgrid": true,
            "ticks": ""
           },
           "bgcolor": "rgb(234,234,242)",
           "radialaxis": {
            "gridcolor": "white",
            "linecolor": "white",
            "showgrid": true,
            "ticks": ""
           }
          },
          "scene": {
           "xaxis": {
            "backgroundcolor": "rgb(234,234,242)",
            "gridcolor": "white",
            "gridwidth": 2,
            "linecolor": "white",
            "showbackground": true,
            "showgrid": true,
            "ticks": "",
            "zerolinecolor": "white"
           },
           "yaxis": {
            "backgroundcolor": "rgb(234,234,242)",
            "gridcolor": "white",
            "gridwidth": 2,
            "linecolor": "white",
            "showbackground": true,
            "showgrid": true,
            "ticks": "",
            "zerolinecolor": "white"
           },
           "zaxis": {
            "backgroundcolor": "rgb(234,234,242)",
            "gridcolor": "white",
            "gridwidth": 2,
            "linecolor": "white",
            "showbackground": true,
            "showgrid": true,
            "ticks": "",
            "zerolinecolor": "white"
           }
          },
          "shapedefaults": {
           "fillcolor": "rgb(67,103,167)",
           "line": {
            "width": 0
           },
           "opacity": 0.5
          },
          "ternary": {
           "aaxis": {
            "gridcolor": "white",
            "linecolor": "white",
            "showgrid": true,
            "ticks": ""
           },
           "baxis": {
            "gridcolor": "white",
            "linecolor": "white",
            "showgrid": true,
            "ticks": ""
           },
           "bgcolor": "rgb(234,234,242)",
           "caxis": {
            "gridcolor": "white",
            "linecolor": "white",
            "showgrid": true,
            "ticks": ""
           }
          },
          "xaxis": {
           "automargin": true,
           "gridcolor": "white",
           "linecolor": "white",
           "showgrid": true,
           "ticks": "",
           "title": {
            "standoff": 15
           },
           "zerolinecolor": "white"
          },
          "yaxis": {
           "automargin": true,
           "gridcolor": "white",
           "linecolor": "white",
           "showgrid": true,
           "ticks": "",
           "title": {
            "standoff": 15
           },
           "zerolinecolor": "white"
          }
         }
        },
        "title": {
         "text": "Correctness score per Question Type"
        },
        "width": 750,
        "xaxis": {
         "anchor": "y",
         "autorange": true,
         "domain": [
          0,
          1
         ],
         "showgrid": false,
         "tickangle": -90,
         "title": {}
        },
        "yaxis": {
         "anchor": "x",
         "domain": [
          0,
          1
         ],
         "range": [
          0.5,
          5.5
         ],
         "title": {
          "text": "Correctness Score"
         }
        }
       }
      },
      "image/png": "[encoded data removed]",
      "text/html": [
       "<div>                            <div id=\"c0116858-d2e6-4ea2-b001-0d430b9a5c93\" class=\"plotly-graph-div\" style=\"height:500px; width:750px;\"></div>            <script type=\"text/javascript\">                require([\"plotly\"], function(Plotly) {                    window.PLOTLYENV=window.PLOTLYENV || {};                                    if (document.getElementById(\"c0116858-d2e6-4ea2-b001-0d430b9a5c93\")) {                    Plotly.newPlot(                        \"c0116858-d2e6-4ea2-b001-0d430b9a5c93\",                        [{\"alignmentgroup\":\"True\",\"hovertemplate\":\"Supercategory=Simple\\u003cbr\\u003eSubcategory=%{x}\\u003cbr\\u003eCorrectness Score=%{y}\\u003cextra\\u003e\\u003c\\u002fextra\\u003e\",\"legendgroup\":\"Simple\",\"marker\":{\"color\":\"#33691E\",\"size\":3},\"name\":\"Simple\",\"notched\":false,\"offsetgroup\":\"Simple\",\"orientation\":\"v\",\"showlegend\":true,\"x\":[\"Text\",\"Text\",\"Text\",\"Text\",\"Table\",\"Image\",\"Recommendation\"],\"x0\":\" \",\"xaxis\":\"x\",\"y\":[1.0,5.0,4.0,3.0,null,null,null],\"y0\":\" \",\"yaxis\":\"y\",\"type\":\"box\",\"line\":{\"width\":1}},{\"alignmentgroup\":\"True\",\"hovertemplate\":\"Supercategory=Complex\\u003cbr\\u003eSubcategory=%{x}\\u003cbr\\u003eCorrectness Score=%{y}\\u003cextra\\u003e\\u003c\\u002fextra\\u003e\",\"legendgroup\":\"Complex\",\"marker\":{\"color\":\"#0D47A1\",\"size\":3},\"name\":\"Complex\",\"notched\":false,\"offsetgroup\":\"Complex\",\"orientation\":\"v\",\"showlegend\":true,\"x\":[\"Synonym\",\"Multiple sections\",\"Multiple guidelines\",\"Substeps\",\"Substeps\"],\"x0\":\" \",\"xaxis\":\"x\",\"y\":[2.0,null,null,1.0,5.0],\"y0\":\" \",\"yaxis\":\"y\",\"type\":\"box\",\"line\":{\"width\":1}},{\"alignmentgroup\":\"True\",\"hovertemplate\":\"Supercategory=Negative\\u003cbr\\u003eSubcategory=%{x}\\u003cbr\\u003eCorrectness Score=%{y}\\u003cextra\\u003e\\u003c\\u002fextra\\u003e\",\"legendgroup\":\"Negative\",\"marker\":{\"color\":\"#EF6C00\",\"size\":3},\"name\":\"Negative\",\"notched\":false,\"offsetgroup\":\"Negative\",\"orientation\":\"v\",\"showlegend\":true,\"x\":[\"Outside medicine\",\"Outside OMS\",\"Outside guidelines\",\"Patient-specific\",\"Broken input\",\"False assumption\"],\"x0\":\" \",\"xaxis\":\"x\",\"y\":[null,null,4.0,null,null,3.0],\"y0\":\" \",\"yaxis\":\"y\",\"type\":\"box\",\"line\":{\"width\":1}}],                        {\"template\":{\"data\":{\"barpolar\":[{\"marker\":{\"line\":{\"color\":\"rgb(234,234,242)\",\"width\":0.5},\"pattern\":{\"fillmode\":\"overlay\",\"size\":10,\"solidity\":0.2}},\"type\":\"barpolar\"}],\"bar\":[{\"error_x\":{\"color\":\"rgb(36,36,36)\"},\"error_y\":{\"color\":\"rgb(36,36,36)\"},\"marker\":{\"line\":{\"color\":\"rgb(234,234,242)\",\"width\":0.5},\"pattern\":{\"fillmode\":\"overlay\",\"size\":10,\"solidity\":0.2}},\"type\":\"bar\"}],\"carpet\":[{\"aaxis\":{\"endlinecolor\":\"rgb(36,36,36)\",\"gridcolor\":\"white\",\"linecolor\":\"white\",\"minorgridcolor\":\"white\",\"startlinecolor\":\"rgb(36,36,36)\"},\"baxis\":{\"endlinecolor\":\"rgb(36,36,36)\",\"gridcolor\":\"white\",\"linecolor\":\"white\",\"minorgridcolor\":\"white\",\"startlinecolor\":\"rgb(36,36,36)\"},\"type\":\"carpet\"}],\"choropleth\":[{\"colorbar\":{\"outlinewidth\":0,\"tickcolor\":\"rgb(36,36,36)\",\"ticklen\":8,\"ticks\":\"outside\",\"tickwidth\":2},\"type\":\"choropleth\"}],\"contourcarpet\":[{\"colorbar\":{\"outlinewidth\":0,\"tickcolor\":\"rgb(36,36,36)\",\"ticklen\":8,\"ticks\":\"outside\",\"tickwidth\":2},\"type\":\"contourcarpet\"}],\"contour\":[{\"colorbar\":{\"outlinewidth\":0,\"tickcolor\":\"rgb(36,36,36)\",\"ticklen\":8,\"ticks\":\"outside\",\"tickwidth\":2},\"colorscale\":[[0.0,\"rgb(2,4,25)\"],[0.06274509803921569,\"rgb(24,15,41)\"],[0.12549019607843137,\"rgb(47,23,57)\"],[0.18823529411764706,\"rgb(71,28,72)\"],[0.25098039215686274,\"rgb(97,30,82)\"],[0.3137254901960784,\"rgb(123,30,89)\"],[0.3764705882352941,\"rgb(150,27,91)\"],[0.4392156862745098,\"rgb(177,22,88)\"],[0.5019607843137255,\"rgb(203,26,79)\"],[0.5647058823529412,\"rgb(223,47,67)\"],[0.6274509803921569,\"rgb(236,76,61)\"],[0.6901960784313725,\"rgb(242,107,73)\"],[0.7529411764705882,\"rgb(244,135,95)\"],[0.8156862745098039,\"rgb(245,162,122)\"],[0.8784313725490196,\"rgb(246,188,153)\"],[0.9411764705882353,\"rgb(247,212,187)\"],[1.0,\"rgb(250,234,220)\"]],\"type\":\"contour\"}],\"heatmapgl\":[{\"colorbar\":{\"outlinewidth\":0,\"tickcolor\":\"rgb(36,36,36)\",\"ticklen\":8,\"ticks\":\"outside\",\"tickwidth\":2},\"colorscale\":[[0.0,\"rgb(2,4,25)\"],[0.06274509803921569,\"rgb(24,15,41)\"],[0.12549019607843137,\"rgb(47,23,57)\"],[0.18823529411764706,\"rgb(71,28,72)\"],[0.25098039215686274,\"rgb(97,30,82)\"],[0.3137254901960784,\"rgb(123,30,89)\"],[0.3764705882352941,\"rgb(150,27,91)\"],[0.4392156862745098,\"rgb(177,22,88)\"],[0.5019607843137255,\"rgb(203,26,79)\"],[0.5647058823529412,\"rgb(223,47,67)\"],[0.6274509803921569,\"rgb(236,76,61)\"],[0.6901960784313725,\"rgb(242,107,73)\"],[0.7529411764705882,\"rgb(244,135,95)\"],[0.8156862745098039,\"rgb(245,162,122)\"],[0.8784313725490196,\"rgb(246,188,153)\"],[0.9411764705882353,\"rgb(247,212,187)\"],[1.0,\"rgb(250,234,220)\"]],\"type\":\"heatmapgl\"}],\"heatmap\":[{\"colorbar\":{\"outlinewidth\":0,\"tickcolor\":\"rgb(36,36,36)\",\"ticklen\":8,\"ticks\":\"outside\",\"tickwidth\":2},\"colorscale\":[[0.0,\"rgb(2,4,25)\"],[0.06274509803921569,\"rgb(24,15,41)\"],[0.12549019607843137,\"rgb(47,23,57)\"],[0.18823529411764706,\"rgb(71,28,72)\"],[0.25098039215686274,\"rgb(97,30,82)\"],[0.3137254901960784,\"rgb(123,30,89)\"],[0.3764705882352941,\"rgb(150,27,91)\"],[0.4392156862745098,\"rgb(177,22,88)\"],[0.5019607843137255,\"rgb(203,26,79)\"],[0.5647058823529412,\"rgb(223,47,67)\"],[0.6274509803921569,\"rgb(236,76,61)\"],[0.6901960784313725,\"rgb(242,107,73)\"],[0.7529411764705882,\"rgb(244,135,95)\"],[0.8156862745098039,\"rgb(245,162,122)\"],[0.8784313725490196,\"rgb(246,188,153)\"],[0.9411764705882353,\"rgb(247,212,187)\"],[1.0,\"rgb(250,234,220)\"]],\"type\":\"heatmap\"}],\"histogram2dcontour\":[{\"colorbar\":{\"outlinewidth\":0,\"tickcolor\":\"rgb(36,36,36)\",\"ticklen\":8,\"ticks\":\"outside\",\"tickwidth\":2},\"colorscale\":[[0.0,\"rgb(2,4,25)\"],[0.06274509803921569,\"rgb(24,15,41)\"],[0.12549019607843137,\"rgb(47,23,57)\"],[0.18823529411764706,\"rgb(71,28,72)\"],[0.25098039215686274,\"rgb(97,30,82)\"],[0.3137254901960784,\"rgb(123,30,89)\"],[0.3764705882352941,\"rgb(150,27,91)\"],[0.4392156862745098,\"rgb(177,22,88)\"],[0.5019607843137255,\"rgb(203,26,79)\"],[0.5647058823529412,\"rgb(223,47,67)\"],[0.6274509803921569,\"rgb(236,76,61)\"],[0.6901960784313725,\"rgb(242,107,73)\"],[0.7529411764705882,\"rgb(244,135,95)\"],[0.8156862745098039,\"rgb(245,162,122)\"],[0.8784313725490196,\"rgb(246,188,153)\"],[0.9411764705882353,\"rgb(247,212,187)\"],[1.0,\"rgb(250,234,220)\"]],\"type\":\"histogram2dcontour\"}],\"histogram2d\":[{\"colorbar\":{\"outlinewidth\":0,\"tickcolor\":\"rgb(36,36,36)\",\"ticklen\":8,\"ticks\":\"outside\",\"tickwidth\":2},\"colorscale\":[[0.0,\"rgb(2,4,25)\"],[0.06274509803921569,\"rgb(24,15,41)\"],[0.12549019607843137,\"rgb(47,23,57)\"],[0.18823529411764706,\"rgb(71,28,72)\"],[0.25098039215686274,\"rgb(97,30,82)\"],[0.3137254901960784,\"rgb(123,30,89)\"],[0.3764705882352941,\"rgb(150,27,91)\"],[0.4392156862745098,\"rgb(177,22,88)\"],[0.5019607843137255,\"rgb(203,26,79)\"],[0.5647058823529412,\"rgb(223,47,67)\"],[0.6274509803921569,\"rgb(236,76,61)\"],[0.6901960784313725,\"rgb(242,107,73)\"],[0.7529411764705882,\"rgb(244,135,95)\"],[0.8156862745098039,\"rgb(245,162,122)\"],[0.8784313725490196,\"rgb(246,188,153)\"],[0.9411764705882353,\"rgb(247,212,187)\"],[1.0,\"rgb(250,234,220)\"]],\"type\":\"histogram2d\"}],\"histogram\":[{\"marker\":{\"pattern\":{\"fillmode\":\"overlay\",\"size\":10,\"solidity\":0.2}},\"type\":\"histogram\"}],\"mesh3d\":[{\"colorbar\":{\"outlinewidth\":0,\"tickcolor\":\"rgb(36,36,36)\",\"ticklen\":8,\"ticks\":\"outside\",\"tickwidth\":2},\"type\":\"mesh3d\"}],\"parcoords\":[{\"line\":{\"colorbar\":{\"outlinewidth\":0,\"tickcolor\":\"rgb(36,36,36)\",\"ticklen\":8,\"ticks\":\"outside\",\"tickwidth\":2}},\"type\":\"parcoords\"}],\"pie\":[{\"automargin\":true,\"type\":\"pie\"}],\"scatter3d\":[{\"line\":{\"colorbar\":{\"outlinewidth\":0,\"tickcolor\":\"rgb(36,36,36)\",\"ticklen\":8,\"ticks\":\"outside\",\"tickwidth\":2}},\"marker\":{\"colorbar\":{\"outlinewidth\":0,\"tickcolor\":\"rgb(36,36,36)\",\"ticklen\":8,\"ticks\":\"outside\",\"tickwidth\":2}},\"type\":\"scatter3d\"}],\"scattercarpet\":[{\"marker\":{\"colorbar\":{\"outlinewidth\":0,\"tickcolor\":\"rgb(36,36,36)\",\"ticklen\":8,\"ticks\":\"outside\",\"tickwidth\":2}},\"type\":\"scattercarpet\"}],\"scattergeo\":[{\"marker\":{\"colorbar\":{\"outlinewidth\":0,\"tickcolor\":\"rgb(36,36,36)\",\"ticklen\":8,\"ticks\":\"outside\",\"tickwidth\":2}},\"type\":\"scattergeo\"}],\"scattergl\":[{\"marker\":{\"colorbar\":{\"outlinewidth\":0,\"tickcolor\":\"rgb(36,36,36)\",\"ticklen\":8,\"ticks\":\"outside\",\"tickwidth\":2}},\"type\":\"scattergl\"}],\"scattermapbox\":[{\"marker\":{\"colorbar\":{\"outlinewidth\":0,\"tickcolor\":\"rgb(36,36,36)\",\"ticklen\":8,\"ticks\":\"outside\",\"tickwidth\":2}},\"type\":\"scattermapbox\"}],\"scatterpolargl\":[{\"marker\":{\"colorbar\":{\"outlinewidth\":0,\"tickcolor\":\"rgb(36,36,36)\",\"ticklen\":8,\"ticks\":\"outside\",\"tickwidth\":2}},\"type\":\"scatterpolargl\"}],\"scatterpolar\":[{\"marker\":{\"colorbar\":{\"outlinewidth\":0,\"tickcolor\":\"rgb(36,36,36)\",\"ticklen\":8,\"ticks\":\"outside\",\"tickwidth\":2}},\"type\":\"scatterpolar\"}],\"scatter\":[{\"fillpattern\":{\"fillmode\":\"overlay\",\"size\":10,\"solidity\":0.2},\"type\":\"scatter\"}],\"scatterternary\":[{\"marker\":{\"colorbar\":{\"outlinewidth\":0,\"tickcolor\":\"rgb(36,36,36)\",\"ticklen\":8,\"ticks\":\"outside\",\"tickwidth\":2}},\"type\":\"scatterternary\"}],\"surface\":[{\"colorbar\":{\"outlinewidth\":0,\"tickcolor\":\"rgb(36,36,36)\",\"ticklen\":8,\"ticks\":\"outside\",\"tickwidth\":2},\"colorscale\":[[0.0,\"rgb(2,4,25)\"],[0.06274509803921569,\"rgb(24,15,41)\"],[0.12549019607843137,\"rgb(47,23,57)\"],[0.18823529411764706,\"rgb(71,28,72)\"],[0.25098039215686274,\"rgb(97,30,82)\"],[0.3137254901960784,\"rgb(123,30,89)\"],[0.3764705882352941,\"rgb(150,27,91)\"],[0.4392156862745098,\"rgb(177,22,88)\"],[0.5019607843137255,\"rgb(203,26,79)\"],[0.5647058823529412,\"rgb(223,47,67)\"],[0.6274509803921569,\"rgb(236,76,61)\"],[0.6901960784313725,\"rgb(242,107,73)\"],[0.7529411764705882,\"rgb(244,135,95)\"],[0.8156862745098039,\"rgb(245,162,122)\"],[0.8784313725490196,\"rgb(246,188,153)\"],[0.9411764705882353,\"rgb(247,212,187)\"],[1.0,\"rgb(250,234,220)\"]],\"type\":\"surface\"}],\"table\":[{\"cells\":{\"fill\":{\"color\":\"rgb(231,231,240)\"},\"line\":{\"color\":\"white\"}},\"header\":{\"fill\":{\"color\":\"rgb(183,183,191)\"},\"line\":{\"color\":\"white\"}},\"type\":\"table\"}]},\"layout\":{\"annotationdefaults\":{\"arrowcolor\":\"rgb(67,103,167)\"},\"autotypenumbers\":\"strict\",\"coloraxis\":{\"colorbar\":{\"outlinewidth\":0,\"tickcolor\":\"rgb(36,36,36)\",\"ticklen\":8,\"ticks\":\"outside\",\"tickwidth\":2}},\"colorscale\":{\"sequential\":[[0.0,\"rgb(2,4,25)\"],[0.06274509803921569,\"rgb(24,15,41)\"],[0.12549019607843137,\"rgb(47,23,57)\"],[0.18823529411764706,\"rgb(71,28,72)\"],[0.25098039215686274,\"rgb(97,30,82)\"],[0.3137254901960784,\"rgb(123,30,89)\"],[0.3764705882352941,\"rgb(150,27,91)\"],[0.4392156862745098,\"rgb(177,22,88)\"],[0.5019607843137255,\"rgb(203,26,79)\"],[0.5647058823529412,\"rgb(223,47,67)\"],[0.6274509803921569,\"rgb(236,76,61)\"],[0.6901960784313725,\"rgb(242,107,73)\"],[0.7529411764705882,\"rgb(244,135,95)\"],[0.8156862745098039,\"rgb(245,162,122)\"],[0.8784313725490196,\"rgb(246,188,153)\"],[0.9411764705882353,\"rgb(247,212,187)\"],[1.0,\"rgb(250,234,220)\"]],\"sequentialminus\":[[0.0,\"rgb(2,4,25)\"],[0.06274509803921569,\"rgb(24,15,41)\"],[0.12549019607843137,\"rgb(47,23,57)\"],[0.18823529411764706,\"rgb(71,28,72)\"],[0.25098039215686274,\"rgb(97,30,82)\"],[0.3137254901960784,\"rgb(123,30,89)\"],[0.3764705882352941,\"rgb(150,27,91)\"],[0.4392156862745098,\"rgb(177,22,88)\"],[0.5019607843137255,\"rgb(203,26,79)\"],[0.5647058823529412,\"rgb(223,47,67)\"],[0.6274509803921569,\"rgb(236,76,61)\"],[0.6901960784313725,\"rgb(242,107,73)\"],[0.7529411764705882,\"rgb(244,135,95)\"],[0.8156862745098039,\"rgb(245,162,122)\"],[0.8784313725490196,\"rgb(246,188,153)\"],[0.9411764705882353,\"rgb(247,212,187)\"],[1.0,\"rgb(250,234,220)\"]]},\"colorway\":[\"rgb(76,114,176)\",\"rgb(221,132,82)\",\"rgb(85,168,104)\",\"rgb(196,78,82)\",\"rgb(129,114,179)\",\"rgb(147,120,96)\",\"rgb(218,139,195)\",\"rgb(140,140,140)\",\"rgb(204,185,116)\",\"rgb(100,181,205)\"],\"font\":{\"color\":\"rgb(36,36,36)\"},\"geo\":{\"bgcolor\":\"white\",\"lakecolor\":\"white\",\"landcolor\":\"rgb(234,234,242)\",\"showlakes\":true,\"showland\":true,\"subunitcolor\":\"white\"},\"hoverlabel\":{\"align\":\"left\"},\"hovermode\":\"closest\",\"paper_bgcolor\":\"white\",\"plot_bgcolor\":\"rgb(234,234,242)\",\"polar\":{\"angularaxis\":{\"gridcolor\":\"white\",\"linecolor\":\"white\",\"showgrid\":true,\"ticks\":\"\"},\"bgcolor\":\"rgb(234,234,242)\",\"radialaxis\":{\"gridcolor\":\"white\",\"linecolor\":\"white\",\"showgrid\":true,\"ticks\":\"\"}},\"scene\":{\"xaxis\":{\"backgroundcolor\":\"rgb(234,234,242)\",\"gridcolor\":\"white\",\"gridwidth\":2,\"linecolor\":\"white\",\"showbackground\":true,\"showgrid\":true,\"ticks\":\"\",\"zerolinecolor\":\"white\"},\"yaxis\":{\"backgroundcolor\":\"rgb(234,234,242)\",\"gridcolor\":\"white\",\"gridwidth\":2,\"linecolor\":\"white\",\"showbackground\":true,\"showgrid\":true,\"ticks\":\"\",\"zerolinecolor\":\"white\"},\"zaxis\":{\"backgroundcolor\":\"rgb(234,234,242)\",\"gridcolor\":\"white\",\"gridwidth\":2,\"linecolor\":\"white\",\"showbackground\":true,\"showgrid\":true,\"ticks\":\"\",\"zerolinecolor\":\"white\"}},\"shapedefaults\":{\"fillcolor\":\"rgb(67,103,167)\",\"line\":{\"width\":0},\"opacity\":0.5},\"ternary\":{\"aaxis\":{\"gridcolor\":\"white\",\"linecolor\":\"white\",\"showgrid\":true,\"ticks\":\"\"},\"baxis\":{\"gridcolor\":\"white\",\"linecolor\":\"white\",\"showgrid\":true,\"ticks\":\"\"},\"bgcolor\":\"rgb(234,234,242)\",\"caxis\":{\"gridcolor\":\"white\",\"linecolor\":\"white\",\"showgrid\":true,\"ticks\":\"\"}},\"xaxis\":{\"automargin\":true,\"gridcolor\":\"white\",\"linecolor\":\"white\",\"showgrid\":true,\"ticks\":\"\",\"title\":{\"standoff\":15},\"zerolinecolor\":\"white\"},\"yaxis\":{\"automargin\":true,\"gridcolor\":\"white\",\"linecolor\":\"white\",\"showgrid\":true,\"ticks\":\"\",\"title\":{\"standoff\":15},\"zerolinecolor\":\"white\"}}},\"xaxis\":{\"anchor\":\"y\",\"domain\":[0.0,1.0],\"title\":{},\"autorange\":true,\"tickangle\":-90,\"showgrid\":false},\"yaxis\":{\"anchor\":\"x\",\"domain\":[0.0,1.0],\"title\":{\"text\":\"Correctness Score\"},\"range\":[0.5,5.5]},\"legend\":{\"title\":{\"text\":\"Supercategory\"},\"tracegroupgap\":0},\"title\":{\"text\":\"Correctness score per Question Type\"},\"boxmode\":\"overlay\",\"showlegend\":true,\"width\":750,\"height\":500},                        {\"responsive\": true}                    ).then(function(){\n",
       "                            \n",
       "var gd = document.getElementById('c0116858-d2e6-4ea2-b001-0d430b9a5c93');\n",
       "var x = new MutationObserver(function (mutations, observer) {{\n",
       "        var display = window.getComputedStyle(gd).display;\n",
       "        if (!display || display === 'none') {{\n",
       "            console.log([gd, 'removed!']);\n",
       "            Plotly.purge(gd);\n",
       "            observer.disconnect();\n",
       "        }}\n",
       "}});\n",
       "\n",
       "// Listen for the removal of the full notebook cells\n",
       "var notebookContainer = gd.closest('#notebook-container');\n",
       "if (notebookContainer) {{\n",
       "    x.observe(notebookContainer, {childList: true});\n",
       "}}\n",
       "\n",
       "// Listen for the clearing of the current output cell\n",
       "var outputEl = gd.closest('.output');\n",
       "if (outputEl) {{\n",
       "    x.observe(outputEl, {childList: true});\n",
       "}}\n",
       "\n",
       "                        })                };                });            </script>        </div>"
      ]
     },
     "metadata": {},
     "output_type": "display_data"
    }
   ],
   "source": [
    "azure_generator_only_wf_system: WorkflowSystem = init_stored_wf_system(dbi, azure_generator_only_config, BACKEND_API_URL)\n",
    "avg_correctness = get_average_correctness(azure_generator_only_wf_system)\n",
    "df__correcntess, img__correctness = analyze_and_visualize_correctness_per_category(azure_generator_only_wf_system)\n",
    "img__correctness.update_layout(width=screen_width, height=screen_height)\n",
    "\n",
    "\n",
    "print(f\"Average correctness: {avg_correctness:.2f}\")\n",
    "for supercat in all_supercategories:\n",
    "    entry = df__correcntess[df__correcntess['subcategory'].isna() & (df__correcntess['supercategory'] == supercat.value)]['avg_correctness_score'].iloc[0]\n",
    "    if pd.isna(entry):\n",
    "        print(f\"No correctness scores for {supercat.value} questions\")\n",
    "    else:\n",
    "        print(f\"Correctness score for {supercat.value} questions: {entry:.2f}\")\n",
    "        \n",
    "img__correctness"
   ]
  },
  {
   "cell_type": "code",
   "execution_count": 21,
   "id": "8bb3e1ed",
   "metadata": {},
   "outputs": [
    {
     "name": "stdout",
     "output_type": "stream",
     "text": [
      "Overall hallucinations per question: 7.89\n"
     ]
    },
    {
     "data": {
      "application/vnd.plotly.v1+json": {
       "config": {
        "plotlyServerURL": "https://plot.ly"
       },
       "data": [
        {
         "colorbar": {
          "len": 1,
          "outlinewidth": 0,
          "thickness": 15,
          "tickcolor": "lightgray",
          "tickfont": {
           "size": 10
          },
          "ticks": "outside",
          "tickvals": [],
          "title": {
           "font": {
            "size": 12
           },
           "side": "top",
           "text": "# Hallucinations<br>&nbsp;"
          },
          "x": 1.01
         },
         "colorscale": [
          [
           0,
           "rgba(255, 255, 255, 0.75)"
          ],
          [
           1,
           "rgba(51, 105, 30, 0.75)"
          ]
         ],
         "type": "heatmap",
         "x": [
          "Q0 (Text)",
          "Q1 (Text)",
          "Q2 (Text)",
          "Q3 (Text)",
          "Q4 (Text)",
          "Q5 (Text)",
          "Q6 (Text)",
          "Q7 (Text)",
          "Q8 (Text)",
          "Q9 (Text)",
          "Q10 (Text)",
          "Q11 (Text)",
          "Q12 (Text)",
          "Q13 (Text)",
          "Q14 (Text)",
          "Q15 (Text)",
          "Q16 (Text)",
          "Q17 (Text)",
          "Q18 (Text)",
          "Q19 (Text)",
          "Q20 (Text)",
          "Q21 (Text)",
          "Q22 (Table)",
          "Q23 (Table)",
          "Q24 (Image)",
          "Q25 (Recommendation)",
          "Q26 (Recommendation)",
          "Q27 (Recommendation)",
          "Q28 (Recommendation)",
          "Q29 (Recommendation)",
          "Q30 (Recommendation)",
          "Q31 (Recommendation)",
          "Q32 (Recommendation)",
          "Q33 (Recommendation)",
          "Q34 (Recommendation)",
          "Q35 (Recommendation)",
          "Q36 (Recommendation)"
         ],
         "xaxis": "x",
         "y": [
          "Fact<br>conflicting",
          "Input<br>conflicting",
          "Context<br>conflicting"
         ],
         "yaxis": "y",
         "z": [
          [
           1,
           5,
           5,
           5,
           null,
           null,
           null,
           null,
           null,
           null,
           null,
           null,
           null,
           null,
           null,
           null,
           null,
           null,
           null,
           null,
           null,
           null,
           null,
           null,
           null,
           null,
           null,
           null,
           null,
           null,
           null,
           null,
           null,
           null,
           null,
           null,
           null
          ],
          [
           1,
           3,
           3,
           3,
           null,
           null,
           null,
           null,
           null,
           null,
           null,
           null,
           null,
           null,
           null,
           null,
           null,
           null,
           null,
           null,
           null,
           null,
           null,
           null,
           null,
           null,
           null,
           null,
           null,
           null,
           null,
           null,
           null,
           null,
           null,
           null,
           null
          ],
          [
           1,
           1,
           1,
           2,
           null,
           null,
           null,
           null,
           null,
           null,
           null,
           null,
           null,
           null,
           null,
           null,
           null,
           null,
           null,
           null,
           null,
           null,
           null,
           null,
           null,
           null,
           null,
           null,
           null,
           null,
           null,
           null,
           null,
           null,
           null,
           null,
           null
          ]
         ],
         "zmax": 5,
         "zmin": 0
        },
        {
         "colorbar": {
          "len": 1,
          "outlinewidth": 0,
          "thickness": 15,
          "tickcolor": "lightgray",
          "tickfont": {
           "size": 10
          },
          "ticks": "outside",
          "tickvals": [],
          "title": {
           "text": "&nbsp;<br>&nbsp;"
          },
          "x": 1.025
         },
         "colorscale": [
          [
           0,
           "rgba(255, 255, 255, 0.75)"
          ],
          [
           1,
           "rgba(13, 71, 161, 0.75)"
          ]
         ],
         "type": "heatmap",
         "x": [
          "Q37 (Synonym)",
          "Q38 (Multiple sections)",
          "Q39 (Multiple sections)",
          "Q40 (Multiple sections)",
          "Q41 (Multiple sections)",
          "Q42 (Multiple sections)",
          "Q43 (Multiple sections)",
          "Q44 (Multiple sections)",
          "Q45 (Multiple sections)",
          "Q46 (Multiple sections)",
          "Q47 (Multiple sections)",
          "Q48 (Multiple sections)",
          "Q49 (Multiple sections)",
          "Q50 (Multiple guidelines)",
          "Q51 (Substeps)",
          "Q52 (Substeps)",
          "Q53 (Substeps)"
         ],
         "xaxis": "x2",
         "y": [
          "Fact<br>conflicting",
          "Input<br>conflicting",
          "Context<br>conflicting"
         ],
         "yaxis": "y2",
         "z": [
          [
           5,
           null,
           null,
           null,
           null,
           null,
           null,
           null,
           null,
           null,
           null,
           null,
           null,
           null,
           5,
           5,
           null
          ],
          [
           2,
           null,
           null,
           null,
           null,
           null,
           null,
           null,
           null,
           null,
           null,
           null,
           null,
           null,
           3,
           2,
           null
          ],
          [
           2,
           null,
           null,
           null,
           null,
           null,
           null,
           null,
           null,
           null,
           null,
           null,
           null,
           null,
           2,
           2,
           null
          ]
         ],
         "zmax": 5,
         "zmin": 0
        },
        {
         "colorbar": {
          "len": 1,
          "outlinewidth": 0,
          "thickness": 15,
          "tickcolor": "lightgray",
          "tickfont": {
           "size": 10
          },
          "ticks": "outside",
          "title": {
           "text": "&nbsp;<br>&nbsp;"
          },
          "x": 1.04
         },
         "colorscale": [
          [
           0,
           "rgba(255, 255, 255, 0.75)"
          ],
          [
           1,
           "rgba(239, 108, 0, 0.75)"
          ]
         ],
         "type": "heatmap",
         "x": [
          "Q54 (Outside guidelines)",
          "Q55 (Outside guidelines)",
          "Q56 (False assumption)",
          "Q57 (False assumption)",
          "Q58 (False assumption)",
          "Q59 (False assumption)"
         ],
         "xaxis": "x3",
         "y": [
          "Fact<br>conflicting",
          "Input<br>conflicting",
          "Context<br>conflicting"
         ],
         "yaxis": "y3",
         "z": [
          [
           5,
           null,
           1,
           null,
           null,
           null
          ],
          [
           2,
           null,
           1,
           null,
           null,
           null
          ],
          [
           2,
           null,
           1,
           null,
           null,
           null
          ]
         ],
         "zmax": 5,
         "zmin": 0
        }
       ],
       "layout": {
        "annotations": [
         {
          "showarrow": false,
          "text": "Text",
          "x": 10.5,
          "xanchor": "center",
          "xref": "x",
          "y": -0.07,
          "yref": "paper"
         },
         {
          "showarrow": false,
          "text": "Table",
          "x": 22.5,
          "xanchor": "center",
          "xref": "x",
          "y": -0.07,
          "yref": "paper"
         },
         {
          "showarrow": false,
          "text": "Image",
          "x": 24,
          "xanchor": "center",
          "xref": "x",
          "y": -0.07,
          "yref": "paper"
         },
         {
          "showarrow": false,
          "text": "Recommendation",
          "x": 30.5,
          "xanchor": "center",
          "xref": "x",
          "y": -0.07,
          "yref": "paper"
         },
         {
          "showarrow": false,
          "text": "Synonym",
          "x": 0,
          "xanchor": "center",
          "xref": "x2",
          "y": -0.07,
          "yref": "paper"
         },
         {
          "showarrow": false,
          "text": "Multiple sections",
          "x": 6.5,
          "xanchor": "center",
          "xref": "x2",
          "y": -0.07,
          "yref": "paper"
         },
         {
          "showarrow": false,
          "text": "Multiple guidelines",
          "x": 13,
          "xanchor": "center",
          "xref": "x2",
          "y": -0.07,
          "yref": "paper"
         },
         {
          "showarrow": false,
          "text": "Substeps",
          "x": 15,
          "xanchor": "center",
          "xref": "x2",
          "y": -0.07,
          "yref": "paper"
         },
         {
          "showarrow": false,
          "text": "Outside guidelines",
          "x": 0.5,
          "xanchor": "center",
          "xref": "x3",
          "y": -0.07,
          "yref": "paper"
         },
         {
          "showarrow": false,
          "text": "False assumption",
          "x": 3.5,
          "xanchor": "center",
          "xref": "x3",
          "y": -0.07,
          "yref": "paper"
         },
         {
          "font": {
           "size": 14
          },
          "showarrow": false,
          "text": "Subcategories (with one cell per assigned question)",
          "x": 0.5,
          "xref": "paper",
          "y": -0.2,
          "yref": "paper"
         },
         {
          "font": {
           "color": "#333",
           "size": 14
          },
          "showarrow": false,
          "text": "... for simple questions",
          "x": 0.2890625,
          "xanchor": "center",
          "xref": "paper",
          "y": 1.08,
          "yref": "paper"
         },
         {
          "font": {
           "color": "#333",
           "size": 14
          },
          "showarrow": false,
          "text": "... for complex questions",
          "x": 0.7421875,
          "xanchor": "center",
          "xref": "paper",
          "y": 1.08,
          "yref": "paper"
         },
         {
          "font": {
           "color": "#333",
           "size": 14
          },
          "showarrow": false,
          "text": "... for negative questions",
          "x": 0.953125,
          "xanchor": "center",
          "xref": "paper",
          "y": 1.08,
          "yref": "paper"
         }
        ],
        "height": 500,
        "shapes": [
         {
          "line": {
           "color": "black",
           "width": 1
          },
          "type": "line",
          "x0": 21.5,
          "x1": 21.5,
          "xref": "x",
          "y0": -0.5,
          "y1": 2.5,
          "yref": "y"
         },
         {
          "line": {
           "color": "black",
           "width": 1
          },
          "type": "line",
          "x0": 23.5,
          "x1": 23.5,
          "xref": "x",
          "y0": -0.5,
          "y1": 2.5,
          "yref": "y"
         },
         {
          "line": {
           "color": "black",
           "width": 1
          },
          "type": "line",
          "x0": 24.5,
          "x1": 24.5,
          "xref": "x",
          "y0": -0.5,
          "y1": 2.5,
          "yref": "y"
         },
         {
          "line": {
           "color": "black",
           "width": 1
          },
          "type": "line",
          "x0": 0.5,
          "x1": 0.5,
          "xref": "x2",
          "y0": -0.5,
          "y1": 2.5,
          "yref": "y2"
         },
         {
          "line": {
           "color": "black",
           "width": 1
          },
          "type": "line",
          "x0": 12.5,
          "x1": 12.5,
          "xref": "x2",
          "y0": -0.5,
          "y1": 2.5,
          "yref": "y2"
         },
         {
          "line": {
           "color": "black",
           "width": 1
          },
          "type": "line",
          "x0": 13.5,
          "x1": 13.5,
          "xref": "x2",
          "y0": -0.5,
          "y1": 2.5,
          "yref": "y2"
         },
         {
          "line": {
           "color": "black",
           "width": 1
          },
          "type": "line",
          "x0": 1.5,
          "x1": 1.5,
          "xref": "x3",
          "y0": -0.5,
          "y1": 2.5,
          "yref": "y3"
         },
         {
          "fillcolor": "rgba(0,0,0,0)",
          "layer": "above",
          "line": {
           "color": "lightgray",
           "width": 1.5
          },
          "type": "rect",
          "x0": -1,
          "x1": 38,
          "xref": "x",
          "y0": -0.5,
          "y1": 2.5,
          "yref": "y"
         },
         {
          "fillcolor": "rgba(0,0,0,0)",
          "layer": "above",
          "line": {
           "color": "lightgray",
           "width": 1.5
          },
          "type": "rect",
          "x0": -1,
          "x1": 18,
          "xref": "x2",
          "y0": -0.5,
          "y1": 2.5,
          "yref": "y2"
         },
         {
          "fillcolor": "rgba(0,0,0,0)",
          "layer": "above",
          "line": {
           "color": "lightgray",
           "width": 1.5
          },
          "type": "rect",
          "x0": -1,
          "x1": 7,
          "xref": "x3",
          "y0": -0.5,
          "y1": 2.5,
          "yref": "y3"
         }
        ],
        "template": {
         "data": {
          "bar": [
           {
            "error_x": {
             "color": "rgb(36,36,36)"
            },
            "error_y": {
             "color": "rgb(36,36,36)"
            },
            "marker": {
             "line": {
              "color": "rgb(234,234,242)",
              "width": 0.5
             },
             "pattern": {
              "fillmode": "overlay",
              "size": 10,
              "solidity": 0.2
             }
            },
            "type": "bar"
           }
          ],
          "barpolar": [
           {
            "marker": {
             "line": {
              "color": "rgb(234,234,242)",
              "width": 0.5
             },
             "pattern": {
              "fillmode": "overlay",
              "size": 10,
              "solidity": 0.2
             }
            },
            "type": "barpolar"
           }
          ],
          "carpet": [
           {
            "aaxis": {
             "endlinecolor": "rgb(36,36,36)",
             "gridcolor": "white",
             "linecolor": "white",
             "minorgridcolor": "white",
             "startlinecolor": "rgb(36,36,36)"
            },
            "baxis": {
             "endlinecolor": "rgb(36,36,36)",
             "gridcolor": "white",
             "linecolor": "white",
             "minorgridcolor": "white",
             "startlinecolor": "rgb(36,36,36)"
            },
            "type": "carpet"
           }
          ],
          "choropleth": [
           {
            "colorbar": {
             "outlinewidth": 0,
             "tickcolor": "rgb(36,36,36)",
             "ticklen": 8,
             "ticks": "outside",
             "tickwidth": 2
            },
            "type": "choropleth"
           }
          ],
          "contour": [
           {
            "colorbar": {
             "outlinewidth": 0,
             "tickcolor": "rgb(36,36,36)",
             "ticklen": 8,
             "ticks": "outside",
             "tickwidth": 2
            },
            "colorscale": [
             [
              0,
              "rgb(2,4,25)"
             ],
             [
              0.06274509803921569,
              "rgb(24,15,41)"
             ],
             [
              0.12549019607843137,
              "rgb(47,23,57)"
             ],
             [
              0.18823529411764706,
              "rgb(71,28,72)"
             ],
             [
              0.25098039215686274,
              "rgb(97,30,82)"
             ],
             [
              0.3137254901960784,
              "rgb(123,30,89)"
             ],
             [
              0.3764705882352941,
              "rgb(150,27,91)"
             ],
             [
              0.4392156862745098,
              "rgb(177,22,88)"
             ],
             [
              0.5019607843137255,
              "rgb(203,26,79)"
             ],
             [
              0.5647058823529412,
              "rgb(223,47,67)"
             ],
             [
              0.6274509803921569,
              "rgb(236,76,61)"
             ],
             [
              0.6901960784313725,
              "rgb(242,107,73)"
             ],
             [
              0.7529411764705882,
              "rgb(244,135,95)"
             ],
             [
              0.8156862745098039,
              "rgb(245,162,122)"
             ],
             [
              0.8784313725490196,
              "rgb(246,188,153)"
             ],
             [
              0.9411764705882353,
              "rgb(247,212,187)"
             ],
             [
              1,
              "rgb(250,234,220)"
             ]
            ],
            "type": "contour"
           }
          ],
          "contourcarpet": [
           {
            "colorbar": {
             "outlinewidth": 0,
             "tickcolor": "rgb(36,36,36)",
             "ticklen": 8,
             "ticks": "outside",
             "tickwidth": 2
            },
            "type": "contourcarpet"
           }
          ],
          "heatmap": [
           {
            "colorbar": {
             "outlinewidth": 0,
             "tickcolor": "rgb(36,36,36)",
             "ticklen": 8,
             "ticks": "outside",
             "tickwidth": 2
            },
            "colorscale": [
             [
              0,
              "rgb(2,4,25)"
             ],
             [
              0.06274509803921569,
              "rgb(24,15,41)"
             ],
             [
              0.12549019607843137,
              "rgb(47,23,57)"
             ],
             [
              0.18823529411764706,
              "rgb(71,28,72)"
             ],
             [
              0.25098039215686274,
              "rgb(97,30,82)"
             ],
             [
              0.3137254901960784,
              "rgb(123,30,89)"
             ],
             [
              0.3764705882352941,
              "rgb(150,27,91)"
             ],
             [
              0.4392156862745098,
              "rgb(177,22,88)"
             ],
             [
              0.5019607843137255,
              "rgb(203,26,79)"
             ],
             [
              0.5647058823529412,
              "rgb(223,47,67)"
             ],
             [
              0.6274509803921569,
              "rgb(236,76,61)"
             ],
             [
              0.6901960784313725,
              "rgb(242,107,73)"
             ],
             [
              0.7529411764705882,
              "rgb(244,135,95)"
             ],
             [
              0.8156862745098039,
              "rgb(245,162,122)"
             ],
             [
              0.8784313725490196,
              "rgb(246,188,153)"
             ],
             [
              0.9411764705882353,
              "rgb(247,212,187)"
             ],
             [
              1,
              "rgb(250,234,220)"
             ]
            ],
            "type": "heatmap"
           }
          ],
          "heatmapgl": [
           {
            "colorbar": {
             "outlinewidth": 0,
             "tickcolor": "rgb(36,36,36)",
             "ticklen": 8,
             "ticks": "outside",
             "tickwidth": 2
            },
            "colorscale": [
             [
              0,
              "rgb(2,4,25)"
             ],
             [
              0.06274509803921569,
              "rgb(24,15,41)"
             ],
             [
              0.12549019607843137,
              "rgb(47,23,57)"
             ],
             [
              0.18823529411764706,
              "rgb(71,28,72)"
             ],
             [
              0.25098039215686274,
              "rgb(97,30,82)"
             ],
             [
              0.3137254901960784,
              "rgb(123,30,89)"
             ],
             [
              0.3764705882352941,
              "rgb(150,27,91)"
             ],
             [
              0.4392156862745098,
              "rgb(177,22,88)"
             ],
             [
              0.5019607843137255,
              "rgb(203,26,79)"
             ],
             [
              0.5647058823529412,
              "rgb(223,47,67)"
             ],
             [
              0.6274509803921569,
              "rgb(236,76,61)"
             ],
             [
              0.6901960784313725,
              "rgb(242,107,73)"
             ],
             [
              0.7529411764705882,
              "rgb(244,135,95)"
             ],
             [
              0.8156862745098039,
              "rgb(245,162,122)"
             ],
             [
              0.8784313725490196,
              "rgb(246,188,153)"
             ],
             [
              0.9411764705882353,
              "rgb(247,212,187)"
             ],
             [
              1,
              "rgb(250,234,220)"
             ]
            ],
            "type": "heatmapgl"
           }
          ],
          "histogram": [
           {
            "marker": {
             "pattern": {
              "fillmode": "overlay",
              "size": 10,
              "solidity": 0.2
             }
            },
            "type": "histogram"
           }
          ],
          "histogram2d": [
           {
            "colorbar": {
             "outlinewidth": 0,
             "tickcolor": "rgb(36,36,36)",
             "ticklen": 8,
             "ticks": "outside",
             "tickwidth": 2
            },
            "colorscale": [
             [
              0,
              "rgb(2,4,25)"
             ],
             [
              0.06274509803921569,
              "rgb(24,15,41)"
             ],
             [
              0.12549019607843137,
              "rgb(47,23,57)"
             ],
             [
              0.18823529411764706,
              "rgb(71,28,72)"
             ],
             [
              0.25098039215686274,
              "rgb(97,30,82)"
             ],
             [
              0.3137254901960784,
              "rgb(123,30,89)"
             ],
             [
              0.3764705882352941,
              "rgb(150,27,91)"
             ],
             [
              0.4392156862745098,
              "rgb(177,22,88)"
             ],
             [
              0.5019607843137255,
              "rgb(203,26,79)"
             ],
             [
              0.5647058823529412,
              "rgb(223,47,67)"
             ],
             [
              0.6274509803921569,
              "rgb(236,76,61)"
             ],
             [
              0.6901960784313725,
              "rgb(242,107,73)"
             ],
             [
              0.7529411764705882,
              "rgb(244,135,95)"
             ],
             [
              0.8156862745098039,
              "rgb(245,162,122)"
             ],
             [
              0.8784313725490196,
              "rgb(246,188,153)"
             ],
             [
              0.9411764705882353,
              "rgb(247,212,187)"
             ],
             [
              1,
              "rgb(250,234,220)"
             ]
            ],
            "type": "histogram2d"
           }
          ],
          "histogram2dcontour": [
           {
            "colorbar": {
             "outlinewidth": 0,
             "tickcolor": "rgb(36,36,36)",
             "ticklen": 8,
             "ticks": "outside",
             "tickwidth": 2
            },
            "colorscale": [
             [
              0,
              "rgb(2,4,25)"
             ],
             [
              0.06274509803921569,
              "rgb(24,15,41)"
             ],
             [
              0.12549019607843137,
              "rgb(47,23,57)"
             ],
             [
              0.18823529411764706,
              "rgb(71,28,72)"
             ],
             [
              0.25098039215686274,
              "rgb(97,30,82)"
             ],
             [
              0.3137254901960784,
              "rgb(123,30,89)"
             ],
             [
              0.3764705882352941,
              "rgb(150,27,91)"
             ],
             [
              0.4392156862745098,
              "rgb(177,22,88)"
             ],
             [
              0.5019607843137255,
              "rgb(203,26,79)"
             ],
             [
              0.5647058823529412,
              "rgb(223,47,67)"
             ],
             [
              0.6274509803921569,
              "rgb(236,76,61)"
             ],
             [
              0.6901960784313725,
              "rgb(242,107,73)"
             ],
             [
              0.7529411764705882,
              "rgb(244,135,95)"
             ],
             [
              0.8156862745098039,
              "rgb(245,162,122)"
             ],
             [
              0.8784313725490196,
              "rgb(246,188,153)"
             ],
             [
              0.9411764705882353,
              "rgb(247,212,187)"
             ],
             [
              1,
              "rgb(250,234,220)"
             ]
            ],
            "type": "histogram2dcontour"
           }
          ],
          "mesh3d": [
           {
            "colorbar": {
             "outlinewidth": 0,
             "tickcolor": "rgb(36,36,36)",
             "ticklen": 8,
             "ticks": "outside",
             "tickwidth": 2
            },
            "type": "mesh3d"
           }
          ],
          "parcoords": [
           {
            "line": {
             "colorbar": {
              "outlinewidth": 0,
              "tickcolor": "rgb(36,36,36)",
              "ticklen": 8,
              "ticks": "outside",
              "tickwidth": 2
             }
            },
            "type": "parcoords"
           }
          ],
          "pie": [
           {
            "automargin": true,
            "type": "pie"
           }
          ],
          "scatter": [
           {
            "fillpattern": {
             "fillmode": "overlay",
             "size": 10,
             "solidity": 0.2
            },
            "type": "scatter"
           }
          ],
          "scatter3d": [
           {
            "line": {
             "colorbar": {
              "outlinewidth": 0,
              "tickcolor": "rgb(36,36,36)",
              "ticklen": 8,
              "ticks": "outside",
              "tickwidth": 2
             }
            },
            "marker": {
             "colorbar": {
              "outlinewidth": 0,
              "tickcolor": "rgb(36,36,36)",
              "ticklen": 8,
              "ticks": "outside",
              "tickwidth": 2
             }
            },
            "type": "scatter3d"
           }
          ],
          "scattercarpet": [
           {
            "marker": {
             "colorbar": {
              "outlinewidth": 0,
              "tickcolor": "rgb(36,36,36)",
              "ticklen": 8,
              "ticks": "outside",
              "tickwidth": 2
             }
            },
            "type": "scattercarpet"
           }
          ],
          "scattergeo": [
           {
            "marker": {
             "colorbar": {
              "outlinewidth": 0,
              "tickcolor": "rgb(36,36,36)",
              "ticklen": 8,
              "ticks": "outside",
              "tickwidth": 2
             }
            },
            "type": "scattergeo"
           }
          ],
          "scattergl": [
           {
            "marker": {
             "colorbar": {
              "outlinewidth": 0,
              "tickcolor": "rgb(36,36,36)",
              "ticklen": 8,
              "ticks": "outside",
              "tickwidth": 2
             }
            },
            "type": "scattergl"
           }
          ],
          "scattermapbox": [
           {
            "marker": {
             "colorbar": {
              "outlinewidth": 0,
              "tickcolor": "rgb(36,36,36)",
              "ticklen": 8,
              "ticks": "outside",
              "tickwidth": 2
             }
            },
            "type": "scattermapbox"
           }
          ],
          "scatterpolar": [
           {
            "marker": {
             "colorbar": {
              "outlinewidth": 0,
              "tickcolor": "rgb(36,36,36)",
              "ticklen": 8,
              "ticks": "outside",
              "tickwidth": 2
             }
            },
            "type": "scatterpolar"
           }
          ],
          "scatterpolargl": [
           {
            "marker": {
             "colorbar": {
              "outlinewidth": 0,
              "tickcolor": "rgb(36,36,36)",
              "ticklen": 8,
              "ticks": "outside",
              "tickwidth": 2
             }
            },
            "type": "scatterpolargl"
           }
          ],
          "scatterternary": [
           {
            "marker": {
             "colorbar": {
              "outlinewidth": 0,
              "tickcolor": "rgb(36,36,36)",
              "ticklen": 8,
              "ticks": "outside",
              "tickwidth": 2
             }
            },
            "type": "scatterternary"
           }
          ],
          "surface": [
           {
            "colorbar": {
             "outlinewidth": 0,
             "tickcolor": "rgb(36,36,36)",
             "ticklen": 8,
             "ticks": "outside",
             "tickwidth": 2
            },
            "colorscale": [
             [
              0,
              "rgb(2,4,25)"
             ],
             [
              0.06274509803921569,
              "rgb(24,15,41)"
             ],
             [
              0.12549019607843137,
              "rgb(47,23,57)"
             ],
             [
              0.18823529411764706,
              "rgb(71,28,72)"
             ],
             [
              0.25098039215686274,
              "rgb(97,30,82)"
             ],
             [
              0.3137254901960784,
              "rgb(123,30,89)"
             ],
             [
              0.3764705882352941,
              "rgb(150,27,91)"
             ],
             [
              0.4392156862745098,
              "rgb(177,22,88)"
             ],
             [
              0.5019607843137255,
              "rgb(203,26,79)"
             ],
             [
              0.5647058823529412,
              "rgb(223,47,67)"
             ],
             [
              0.6274509803921569,
              "rgb(236,76,61)"
             ],
             [
              0.6901960784313725,
              "rgb(242,107,73)"
             ],
             [
              0.7529411764705882,
              "rgb(244,135,95)"
             ],
             [
              0.8156862745098039,
              "rgb(245,162,122)"
             ],
             [
              0.8784313725490196,
              "rgb(246,188,153)"
             ],
             [
              0.9411764705882353,
              "rgb(247,212,187)"
             ],
             [
              1,
              "rgb(250,234,220)"
             ]
            ],
            "type": "surface"
           }
          ],
          "table": [
           {
            "cells": {
             "fill": {
              "color": "rgb(231,231,240)"
             },
             "line": {
              "color": "white"
             }
            },
            "header": {
             "fill": {
              "color": "rgb(183,183,191)"
             },
             "line": {
              "color": "white"
             }
            },
            "type": "table"
           }
          ]
         },
         "layout": {
          "annotationdefaults": {
           "arrowcolor": "rgb(67,103,167)"
          },
          "autotypenumbers": "strict",
          "coloraxis": {
           "colorbar": {
            "outlinewidth": 0,
            "tickcolor": "rgb(36,36,36)",
            "ticklen": 8,
            "ticks": "outside",
            "tickwidth": 2
           }
          },
          "colorscale": {
           "sequential": [
            [
             0,
             "rgb(2,4,25)"
            ],
            [
             0.06274509803921569,
             "rgb(24,15,41)"
            ],
            [
             0.12549019607843137,
             "rgb(47,23,57)"
            ],
            [
             0.18823529411764706,
             "rgb(71,28,72)"
            ],
            [
             0.25098039215686274,
             "rgb(97,30,82)"
            ],
            [
             0.3137254901960784,
             "rgb(123,30,89)"
            ],
            [
             0.3764705882352941,
             "rgb(150,27,91)"
            ],
            [
             0.4392156862745098,
             "rgb(177,22,88)"
            ],
            [
             0.5019607843137255,
             "rgb(203,26,79)"
            ],
            [
             0.5647058823529412,
             "rgb(223,47,67)"
            ],
            [
             0.6274509803921569,
             "rgb(236,76,61)"
            ],
            [
             0.6901960784313725,
             "rgb(242,107,73)"
            ],
            [
             0.7529411764705882,
             "rgb(244,135,95)"
            ],
            [
             0.8156862745098039,
             "rgb(245,162,122)"
            ],
            [
             0.8784313725490196,
             "rgb(246,188,153)"
            ],
            [
             0.9411764705882353,
             "rgb(247,212,187)"
            ],
            [
             1,
             "rgb(250,234,220)"
            ]
           ],
           "sequentialminus": [
            [
             0,
             "rgb(2,4,25)"
            ],
            [
             0.06274509803921569,
             "rgb(24,15,41)"
            ],
            [
             0.12549019607843137,
             "rgb(47,23,57)"
            ],
            [
             0.18823529411764706,
             "rgb(71,28,72)"
            ],
            [
             0.25098039215686274,
             "rgb(97,30,82)"
            ],
            [
             0.3137254901960784,
             "rgb(123,30,89)"
            ],
            [
             0.3764705882352941,
             "rgb(150,27,91)"
            ],
            [
             0.4392156862745098,
             "rgb(177,22,88)"
            ],
            [
             0.5019607843137255,
             "rgb(203,26,79)"
            ],
            [
             0.5647058823529412,
             "rgb(223,47,67)"
            ],
            [
             0.6274509803921569,
             "rgb(236,76,61)"
            ],
            [
             0.6901960784313725,
             "rgb(242,107,73)"
            ],
            [
             0.7529411764705882,
             "rgb(244,135,95)"
            ],
            [
             0.8156862745098039,
             "rgb(245,162,122)"
            ],
            [
             0.8784313725490196,
             "rgb(246,188,153)"
            ],
            [
             0.9411764705882353,
             "rgb(247,212,187)"
            ],
            [
             1,
             "rgb(250,234,220)"
            ]
           ]
          },
          "colorway": [
           "rgb(76,114,176)",
           "rgb(221,132,82)",
           "rgb(85,168,104)",
           "rgb(196,78,82)",
           "rgb(129,114,179)",
           "rgb(147,120,96)",
           "rgb(218,139,195)",
           "rgb(140,140,140)",
           "rgb(204,185,116)",
           "rgb(100,181,205)"
          ],
          "font": {
           "color": "rgb(36,36,36)"
          },
          "geo": {
           "bgcolor": "white",
           "lakecolor": "white",
           "landcolor": "rgb(234,234,242)",
           "showlakes": true,
           "showland": true,
           "subunitcolor": "white"
          },
          "hoverlabel": {
           "align": "left"
          },
          "hovermode": "closest",
          "paper_bgcolor": "white",
          "plot_bgcolor": "rgb(234,234,242)",
          "polar": {
           "angularaxis": {
            "gridcolor": "white",
            "linecolor": "white",
            "showgrid": true,
            "ticks": ""
           },
           "bgcolor": "rgb(234,234,242)",
           "radialaxis": {
            "gridcolor": "white",
            "linecolor": "white",
            "showgrid": true,
            "ticks": ""
           }
          },
          "scene": {
           "xaxis": {
            "backgroundcolor": "rgb(234,234,242)",
            "gridcolor": "white",
            "gridwidth": 2,
            "linecolor": "white",
            "showbackground": true,
            "showgrid": true,
            "ticks": "",
            "zerolinecolor": "white"
           },
           "yaxis": {
            "backgroundcolor": "rgb(234,234,242)",
            "gridcolor": "white",
            "gridwidth": 2,
            "linecolor": "white",
            "showbackground": true,
            "showgrid": true,
            "ticks": "",
            "zerolinecolor": "white"
           },
           "zaxis": {
            "backgroundcolor": "rgb(234,234,242)",
            "gridcolor": "white",
            "gridwidth": 2,
            "linecolor": "white",
            "showbackground": true,
            "showgrid": true,
            "ticks": "",
            "zerolinecolor": "white"
           }
          },
          "shapedefaults": {
           "fillcolor": "rgb(67,103,167)",
           "line": {
            "width": 0
           },
           "opacity": 0.5
          },
          "ternary": {
           "aaxis": {
            "gridcolor": "white",
            "linecolor": "white",
            "showgrid": true,
            "ticks": ""
           },
           "baxis": {
            "gridcolor": "white",
            "linecolor": "white",
            "showgrid": true,
            "ticks": ""
           },
           "bgcolor": "rgb(234,234,242)",
           "caxis": {
            "gridcolor": "white",
            "linecolor": "white",
            "showgrid": true,
            "ticks": ""
           }
          },
          "xaxis": {
           "automargin": true,
           "gridcolor": "white",
           "linecolor": "white",
           "showgrid": true,
           "ticks": "",
           "title": {
            "standoff": 15
           },
           "zerolinecolor": "white"
          },
          "yaxis": {
           "automargin": true,
           "gridcolor": "white",
           "linecolor": "white",
           "showgrid": true,
           "ticks": "",
           "title": {
            "standoff": 15
           },
           "zerolinecolor": "white"
          }
         }
        },
        "title": {
         "text": "Hallucination Types Count",
         "x": 0.5
        },
        "width": 1500,
        "xaxis": {
         "anchor": "y",
         "domain": [
          0,
          0.578125
         ],
         "range": [
          -0.5,
          36.5
         ],
         "showgrid": true,
         "showticklabels": false,
         "tickson": "boundaries"
        },
        "xaxis2": {
         "anchor": "y2",
         "domain": [
          0.609375,
          0.875
         ],
         "range": [
          -0.5,
          16.5
         ],
         "showgrid": true,
         "showticklabels": false,
         "tickson": "boundaries"
        },
        "xaxis3": {
         "anchor": "y3",
         "domain": [
          0.90625,
          1
         ],
         "range": [
          -0.5,
          5.5
         ],
         "showgrid": true,
         "showticklabels": false,
         "tickson": "boundaries"
        },
        "yaxis": {
         "anchor": "x",
         "domain": [
          0,
          1
         ],
         "gridwidth": 1,
         "showgrid": true,
         "showticklabels": true,
         "tickson": "boundaries"
        },
        "yaxis2": {
         "anchor": "x2",
         "domain": [
          0,
          1
         ],
         "gridwidth": 1,
         "matches": "y",
         "showgrid": true,
         "showticklabels": false,
         "tickson": "boundaries"
        },
        "yaxis3": {
         "anchor": "x3",
         "domain": [
          0,
          1
         ],
         "gridwidth": 1,
         "matches": "y",
         "showgrid": true,
         "showticklabels": false,
         "tickson": "boundaries"
        }
       }
      },
      "image/png": "[encoded data removed]",
      "text/html": [
       "<div>                            <div id=\"763e9fe6-3ecb-4d36-8014-68da82de0a1e\" class=\"plotly-graph-div\" style=\"height:500px; width:1500px;\"></div>            <script type=\"text/javascript\">                require([\"plotly\"], function(Plotly) {                    window.PLOTLYENV=window.PLOTLYENV || {};                                    if (document.getElementById(\"763e9fe6-3ecb-4d36-8014-68da82de0a1e\")) {                    Plotly.newPlot(                        \"763e9fe6-3ecb-4d36-8014-68da82de0a1e\",                        [{\"colorbar\":{\"len\":1,\"outlinewidth\":0,\"thickness\":15,\"tickcolor\":\"lightgray\",\"tickfont\":{\"size\":10},\"ticks\":\"outside\",\"tickvals\":[],\"title\":{\"font\":{\"size\":12},\"side\":\"top\",\"text\":\"# Hallucinations\\u003cbr\\u003e&nbsp;\"},\"x\":1.01},\"colorscale\":[[0.0,\"rgba(255, 255, 255, 0.75)\"],[1.0,\"rgba(51, 105, 30, 0.75)\"]],\"x\":[\"Q0 (Text)\",\"Q1 (Text)\",\"Q2 (Text)\",\"Q3 (Text)\",\"Q4 (Text)\",\"Q5 (Text)\",\"Q6 (Text)\",\"Q7 (Text)\",\"Q8 (Text)\",\"Q9 (Text)\",\"Q10 (Text)\",\"Q11 (Text)\",\"Q12 (Text)\",\"Q13 (Text)\",\"Q14 (Text)\",\"Q15 (Text)\",\"Q16 (Text)\",\"Q17 (Text)\",\"Q18 (Text)\",\"Q19 (Text)\",\"Q20 (Text)\",\"Q21 (Text)\",\"Q22 (Table)\",\"Q23 (Table)\",\"Q24 (Image)\",\"Q25 (Recommendation)\",\"Q26 (Recommendation)\",\"Q27 (Recommendation)\",\"Q28 (Recommendation)\",\"Q29 (Recommendation)\",\"Q30 (Recommendation)\",\"Q31 (Recommendation)\",\"Q32 (Recommendation)\",\"Q33 (Recommendation)\",\"Q34 (Recommendation)\",\"Q35 (Recommendation)\",\"Q36 (Recommendation)\"],\"y\":[\"Fact\\u003cbr\\u003econflicting\",\"Input\\u003cbr\\u003econflicting\",\"Context\\u003cbr\\u003econflicting\"],\"z\":[[1.0,5.0,5.0,5.0,null,null,null,null,null,null,null,null,null,null,null,null,null,null,null,null,null,null,null,null,null,null,null,null,null,null,null,null,null,null,null,null,null],[1.0,3.0,3.0,3.0,null,null,null,null,null,null,null,null,null,null,null,null,null,null,null,null,null,null,null,null,null,null,null,null,null,null,null,null,null,null,null,null,null],[1.0,1.0,1.0,2.0,null,null,null,null,null,null,null,null,null,null,null,null,null,null,null,null,null,null,null,null,null,null,null,null,null,null,null,null,null,null,null,null,null]],\"zmax\":5.0,\"zmin\":0,\"type\":\"heatmap\",\"xaxis\":\"x\",\"yaxis\":\"y\"},{\"colorbar\":{\"len\":1,\"outlinewidth\":0,\"thickness\":15,\"tickcolor\":\"lightgray\",\"tickfont\":{\"size\":10},\"ticks\":\"outside\",\"tickvals\":[],\"title\":{\"text\":\"&nbsp;\\u003cbr\\u003e&nbsp;\"},\"x\":1.025},\"colorscale\":[[0.0,\"rgba(255, 255, 255, 0.75)\"],[1.0,\"rgba(13, 71, 161, 0.75)\"]],\"x\":[\"Q37 (Synonym)\",\"Q38 (Multiple sections)\",\"Q39 (Multiple sections)\",\"Q40 (Multiple sections)\",\"Q41 (Multiple sections)\",\"Q42 (Multiple sections)\",\"Q43 (Multiple sections)\",\"Q44 (Multiple sections)\",\"Q45 (Multiple sections)\",\"Q46 (Multiple sections)\",\"Q47 (Multiple sections)\",\"Q48 (Multiple sections)\",\"Q49 (Multiple sections)\",\"Q50 (Multiple guidelines)\",\"Q51 (Substeps)\",\"Q52 (Substeps)\",\"Q53 (Substeps)\"],\"y\":[\"Fact\\u003cbr\\u003econflicting\",\"Input\\u003cbr\\u003econflicting\",\"Context\\u003cbr\\u003econflicting\"],\"z\":[[5.0,null,null,null,null,null,null,null,null,null,null,null,null,null,5.0,5.0,null],[2.0,null,null,null,null,null,null,null,null,null,null,null,null,null,3.0,2.0,null],[2.0,null,null,null,null,null,null,null,null,null,null,null,null,null,2.0,2.0,null]],\"zmax\":5.0,\"zmin\":0,\"type\":\"heatmap\",\"xaxis\":\"x2\",\"yaxis\":\"y2\"},{\"colorbar\":{\"len\":1,\"outlinewidth\":0,\"thickness\":15,\"tickcolor\":\"lightgray\",\"tickfont\":{\"size\":10},\"ticks\":\"outside\",\"title\":{\"text\":\"&nbsp;\\u003cbr\\u003e&nbsp;\"},\"x\":1.04},\"colorscale\":[[0.0,\"rgba(255, 255, 255, 0.75)\"],[1.0,\"rgba(239, 108, 0, 0.75)\"]],\"x\":[\"Q54 (Outside guidelines)\",\"Q55 (Outside guidelines)\",\"Q56 (False assumption)\",\"Q57 (False assumption)\",\"Q58 (False assumption)\",\"Q59 (False assumption)\"],\"y\":[\"Fact\\u003cbr\\u003econflicting\",\"Input\\u003cbr\\u003econflicting\",\"Context\\u003cbr\\u003econflicting\"],\"z\":[[5.0,null,1.0,null,null,null],[2.0,null,1.0,null,null,null],[2.0,null,1.0,null,null,null]],\"zmax\":5.0,\"zmin\":0,\"type\":\"heatmap\",\"xaxis\":\"x3\",\"yaxis\":\"y3\"}],                        {\"template\":{\"data\":{\"barpolar\":[{\"marker\":{\"line\":{\"color\":\"rgb(234,234,242)\",\"width\":0.5},\"pattern\":{\"fillmode\":\"overlay\",\"size\":10,\"solidity\":0.2}},\"type\":\"barpolar\"}],\"bar\":[{\"error_x\":{\"color\":\"rgb(36,36,36)\"},\"error_y\":{\"color\":\"rgb(36,36,36)\"},\"marker\":{\"line\":{\"color\":\"rgb(234,234,242)\",\"width\":0.5},\"pattern\":{\"fillmode\":\"overlay\",\"size\":10,\"solidity\":0.2}},\"type\":\"bar\"}],\"carpet\":[{\"aaxis\":{\"endlinecolor\":\"rgb(36,36,36)\",\"gridcolor\":\"white\",\"linecolor\":\"white\",\"minorgridcolor\":\"white\",\"startlinecolor\":\"rgb(36,36,36)\"},\"baxis\":{\"endlinecolor\":\"rgb(36,36,36)\",\"gridcolor\":\"white\",\"linecolor\":\"white\",\"minorgridcolor\":\"white\",\"startlinecolor\":\"rgb(36,36,36)\"},\"type\":\"carpet\"}],\"choropleth\":[{\"colorbar\":{\"outlinewidth\":0,\"tickcolor\":\"rgb(36,36,36)\",\"ticklen\":8,\"ticks\":\"outside\",\"tickwidth\":2},\"type\":\"choropleth\"}],\"contourcarpet\":[{\"colorbar\":{\"outlinewidth\":0,\"tickcolor\":\"rgb(36,36,36)\",\"ticklen\":8,\"ticks\":\"outside\",\"tickwidth\":2},\"type\":\"contourcarpet\"}],\"contour\":[{\"colorbar\":{\"outlinewidth\":0,\"tickcolor\":\"rgb(36,36,36)\",\"ticklen\":8,\"ticks\":\"outside\",\"tickwidth\":2},\"colorscale\":[[0.0,\"rgb(2,4,25)\"],[0.06274509803921569,\"rgb(24,15,41)\"],[0.12549019607843137,\"rgb(47,23,57)\"],[0.18823529411764706,\"rgb(71,28,72)\"],[0.25098039215686274,\"rgb(97,30,82)\"],[0.3137254901960784,\"rgb(123,30,89)\"],[0.3764705882352941,\"rgb(150,27,91)\"],[0.4392156862745098,\"rgb(177,22,88)\"],[0.5019607843137255,\"rgb(203,26,79)\"],[0.5647058823529412,\"rgb(223,47,67)\"],[0.6274509803921569,\"rgb(236,76,61)\"],[0.6901960784313725,\"rgb(242,107,73)\"],[0.7529411764705882,\"rgb(244,135,95)\"],[0.8156862745098039,\"rgb(245,162,122)\"],[0.8784313725490196,\"rgb(246,188,153)\"],[0.9411764705882353,\"rgb(247,212,187)\"],[1.0,\"rgb(250,234,220)\"]],\"type\":\"contour\"}],\"heatmapgl\":[{\"colorbar\":{\"outlinewidth\":0,\"tickcolor\":\"rgb(36,36,36)\",\"ticklen\":8,\"ticks\":\"outside\",\"tickwidth\":2},\"colorscale\":[[0.0,\"rgb(2,4,25)\"],[0.06274509803921569,\"rgb(24,15,41)\"],[0.12549019607843137,\"rgb(47,23,57)\"],[0.18823529411764706,\"rgb(71,28,72)\"],[0.25098039215686274,\"rgb(97,30,82)\"],[0.3137254901960784,\"rgb(123,30,89)\"],[0.3764705882352941,\"rgb(150,27,91)\"],[0.4392156862745098,\"rgb(177,22,88)\"],[0.5019607843137255,\"rgb(203,26,79)\"],[0.5647058823529412,\"rgb(223,47,67)\"],[0.6274509803921569,\"rgb(236,76,61)\"],[0.6901960784313725,\"rgb(242,107,73)\"],[0.7529411764705882,\"rgb(244,135,95)\"],[0.8156862745098039,\"rgb(245,162,122)\"],[0.8784313725490196,\"rgb(246,188,153)\"],[0.9411764705882353,\"rgb(247,212,187)\"],[1.0,\"rgb(250,234,220)\"]],\"type\":\"heatmapgl\"}],\"heatmap\":[{\"colorbar\":{\"outlinewidth\":0,\"tickcolor\":\"rgb(36,36,36)\",\"ticklen\":8,\"ticks\":\"outside\",\"tickwidth\":2},\"colorscale\":[[0.0,\"rgb(2,4,25)\"],[0.06274509803921569,\"rgb(24,15,41)\"],[0.12549019607843137,\"rgb(47,23,57)\"],[0.18823529411764706,\"rgb(71,28,72)\"],[0.25098039215686274,\"rgb(97,30,82)\"],[0.3137254901960784,\"rgb(123,30,89)\"],[0.3764705882352941,\"rgb(150,27,91)\"],[0.4392156862745098,\"rgb(177,22,88)\"],[0.5019607843137255,\"rgb(203,26,79)\"],[0.5647058823529412,\"rgb(223,47,67)\"],[0.6274509803921569,\"rgb(236,76,61)\"],[0.6901960784313725,\"rgb(242,107,73)\"],[0.7529411764705882,\"rgb(244,135,95)\"],[0.8156862745098039,\"rgb(245,162,122)\"],[0.8784313725490196,\"rgb(246,188,153)\"],[0.9411764705882353,\"rgb(247,212,187)\"],[1.0,\"rgb(250,234,220)\"]],\"type\":\"heatmap\"}],\"histogram2dcontour\":[{\"colorbar\":{\"outlinewidth\":0,\"tickcolor\":\"rgb(36,36,36)\",\"ticklen\":8,\"ticks\":\"outside\",\"tickwidth\":2},\"colorscale\":[[0.0,\"rgb(2,4,25)\"],[0.06274509803921569,\"rgb(24,15,41)\"],[0.12549019607843137,\"rgb(47,23,57)\"],[0.18823529411764706,\"rgb(71,28,72)\"],[0.25098039215686274,\"rgb(97,30,82)\"],[0.3137254901960784,\"rgb(123,30,89)\"],[0.3764705882352941,\"rgb(150,27,91)\"],[0.4392156862745098,\"rgb(177,22,88)\"],[0.5019607843137255,\"rgb(203,26,79)\"],[0.5647058823529412,\"rgb(223,47,67)\"],[0.6274509803921569,\"rgb(236,76,61)\"],[0.6901960784313725,\"rgb(242,107,73)\"],[0.7529411764705882,\"rgb(244,135,95)\"],[0.8156862745098039,\"rgb(245,162,122)\"],[0.8784313725490196,\"rgb(246,188,153)\"],[0.9411764705882353,\"rgb(247,212,187)\"],[1.0,\"rgb(250,234,220)\"]],\"type\":\"histogram2dcontour\"}],\"histogram2d\":[{\"colorbar\":{\"outlinewidth\":0,\"tickcolor\":\"rgb(36,36,36)\",\"ticklen\":8,\"ticks\":\"outside\",\"tickwidth\":2},\"colorscale\":[[0.0,\"rgb(2,4,25)\"],[0.06274509803921569,\"rgb(24,15,41)\"],[0.12549019607843137,\"rgb(47,23,57)\"],[0.18823529411764706,\"rgb(71,28,72)\"],[0.25098039215686274,\"rgb(97,30,82)\"],[0.3137254901960784,\"rgb(123,30,89)\"],[0.3764705882352941,\"rgb(150,27,91)\"],[0.4392156862745098,\"rgb(177,22,88)\"],[0.5019607843137255,\"rgb(203,26,79)\"],[0.5647058823529412,\"rgb(223,47,67)\"],[0.6274509803921569,\"rgb(236,76,61)\"],[0.6901960784313725,\"rgb(242,107,73)\"],[0.7529411764705882,\"rgb(244,135,95)\"],[0.8156862745098039,\"rgb(245,162,122)\"],[0.8784313725490196,\"rgb(246,188,153)\"],[0.9411764705882353,\"rgb(247,212,187)\"],[1.0,\"rgb(250,234,220)\"]],\"type\":\"histogram2d\"}],\"histogram\":[{\"marker\":{\"pattern\":{\"fillmode\":\"overlay\",\"size\":10,\"solidity\":0.2}},\"type\":\"histogram\"}],\"mesh3d\":[{\"colorbar\":{\"outlinewidth\":0,\"tickcolor\":\"rgb(36,36,36)\",\"ticklen\":8,\"ticks\":\"outside\",\"tickwidth\":2},\"type\":\"mesh3d\"}],\"parcoords\":[{\"line\":{\"colorbar\":{\"outlinewidth\":0,\"tickcolor\":\"rgb(36,36,36)\",\"ticklen\":8,\"ticks\":\"outside\",\"tickwidth\":2}},\"type\":\"parcoords\"}],\"pie\":[{\"automargin\":true,\"type\":\"pie\"}],\"scatter3d\":[{\"line\":{\"colorbar\":{\"outlinewidth\":0,\"tickcolor\":\"rgb(36,36,36)\",\"ticklen\":8,\"ticks\":\"outside\",\"tickwidth\":2}},\"marker\":{\"colorbar\":{\"outlinewidth\":0,\"tickcolor\":\"rgb(36,36,36)\",\"ticklen\":8,\"ticks\":\"outside\",\"tickwidth\":2}},\"type\":\"scatter3d\"}],\"scattercarpet\":[{\"marker\":{\"colorbar\":{\"outlinewidth\":0,\"tickcolor\":\"rgb(36,36,36)\",\"ticklen\":8,\"ticks\":\"outside\",\"tickwidth\":2}},\"type\":\"scattercarpet\"}],\"scattergeo\":[{\"marker\":{\"colorbar\":{\"outlinewidth\":0,\"tickcolor\":\"rgb(36,36,36)\",\"ticklen\":8,\"ticks\":\"outside\",\"tickwidth\":2}},\"type\":\"scattergeo\"}],\"scattergl\":[{\"marker\":{\"colorbar\":{\"outlinewidth\":0,\"tickcolor\":\"rgb(36,36,36)\",\"ticklen\":8,\"ticks\":\"outside\",\"tickwidth\":2}},\"type\":\"scattergl\"}],\"scattermapbox\":[{\"marker\":{\"colorbar\":{\"outlinewidth\":0,\"tickcolor\":\"rgb(36,36,36)\",\"ticklen\":8,\"ticks\":\"outside\",\"tickwidth\":2}},\"type\":\"scattermapbox\"}],\"scatterpolargl\":[{\"marker\":{\"colorbar\":{\"outlinewidth\":0,\"tickcolor\":\"rgb(36,36,36)\",\"ticklen\":8,\"ticks\":\"outside\",\"tickwidth\":2}},\"type\":\"scatterpolargl\"}],\"scatterpolar\":[{\"marker\":{\"colorbar\":{\"outlinewidth\":0,\"tickcolor\":\"rgb(36,36,36)\",\"ticklen\":8,\"ticks\":\"outside\",\"tickwidth\":2}},\"type\":\"scatterpolar\"}],\"scatter\":[{\"fillpattern\":{\"fillmode\":\"overlay\",\"size\":10,\"solidity\":0.2},\"type\":\"scatter\"}],\"scatterternary\":[{\"marker\":{\"colorbar\":{\"outlinewidth\":0,\"tickcolor\":\"rgb(36,36,36)\",\"ticklen\":8,\"ticks\":\"outside\",\"tickwidth\":2}},\"type\":\"scatterternary\"}],\"surface\":[{\"colorbar\":{\"outlinewidth\":0,\"tickcolor\":\"rgb(36,36,36)\",\"ticklen\":8,\"ticks\":\"outside\",\"tickwidth\":2},\"colorscale\":[[0.0,\"rgb(2,4,25)\"],[0.06274509803921569,\"rgb(24,15,41)\"],[0.12549019607843137,\"rgb(47,23,57)\"],[0.18823529411764706,\"rgb(71,28,72)\"],[0.25098039215686274,\"rgb(97,30,82)\"],[0.3137254901960784,\"rgb(123,30,89)\"],[0.3764705882352941,\"rgb(150,27,91)\"],[0.4392156862745098,\"rgb(177,22,88)\"],[0.5019607843137255,\"rgb(203,26,79)\"],[0.5647058823529412,\"rgb(223,47,67)\"],[0.6274509803921569,\"rgb(236,76,61)\"],[0.6901960784313725,\"rgb(242,107,73)\"],[0.7529411764705882,\"rgb(244,135,95)\"],[0.8156862745098039,\"rgb(245,162,122)\"],[0.8784313725490196,\"rgb(246,188,153)\"],[0.9411764705882353,\"rgb(247,212,187)\"],[1.0,\"rgb(250,234,220)\"]],\"type\":\"surface\"}],\"table\":[{\"cells\":{\"fill\":{\"color\":\"rgb(231,231,240)\"},\"line\":{\"color\":\"white\"}},\"header\":{\"fill\":{\"color\":\"rgb(183,183,191)\"},\"line\":{\"color\":\"white\"}},\"type\":\"table\"}]},\"layout\":{\"annotationdefaults\":{\"arrowcolor\":\"rgb(67,103,167)\"},\"autotypenumbers\":\"strict\",\"coloraxis\":{\"colorbar\":{\"outlinewidth\":0,\"tickcolor\":\"rgb(36,36,36)\",\"ticklen\":8,\"ticks\":\"outside\",\"tickwidth\":2}},\"colorscale\":{\"sequential\":[[0.0,\"rgb(2,4,25)\"],[0.06274509803921569,\"rgb(24,15,41)\"],[0.12549019607843137,\"rgb(47,23,57)\"],[0.18823529411764706,\"rgb(71,28,72)\"],[0.25098039215686274,\"rgb(97,30,82)\"],[0.3137254901960784,\"rgb(123,30,89)\"],[0.3764705882352941,\"rgb(150,27,91)\"],[0.4392156862745098,\"rgb(177,22,88)\"],[0.5019607843137255,\"rgb(203,26,79)\"],[0.5647058823529412,\"rgb(223,47,67)\"],[0.6274509803921569,\"rgb(236,76,61)\"],[0.6901960784313725,\"rgb(242,107,73)\"],[0.7529411764705882,\"rgb(244,135,95)\"],[0.8156862745098039,\"rgb(245,162,122)\"],[0.8784313725490196,\"rgb(246,188,153)\"],[0.9411764705882353,\"rgb(247,212,187)\"],[1.0,\"rgb(250,234,220)\"]],\"sequentialminus\":[[0.0,\"rgb(2,4,25)\"],[0.06274509803921569,\"rgb(24,15,41)\"],[0.12549019607843137,\"rgb(47,23,57)\"],[0.18823529411764706,\"rgb(71,28,72)\"],[0.25098039215686274,\"rgb(97,30,82)\"],[0.3137254901960784,\"rgb(123,30,89)\"],[0.3764705882352941,\"rgb(150,27,91)\"],[0.4392156862745098,\"rgb(177,22,88)\"],[0.5019607843137255,\"rgb(203,26,79)\"],[0.5647058823529412,\"rgb(223,47,67)\"],[0.6274509803921569,\"rgb(236,76,61)\"],[0.6901960784313725,\"rgb(242,107,73)\"],[0.7529411764705882,\"rgb(244,135,95)\"],[0.8156862745098039,\"rgb(245,162,122)\"],[0.8784313725490196,\"rgb(246,188,153)\"],[0.9411764705882353,\"rgb(247,212,187)\"],[1.0,\"rgb(250,234,220)\"]]},\"colorway\":[\"rgb(76,114,176)\",\"rgb(221,132,82)\",\"rgb(85,168,104)\",\"rgb(196,78,82)\",\"rgb(129,114,179)\",\"rgb(147,120,96)\",\"rgb(218,139,195)\",\"rgb(140,140,140)\",\"rgb(204,185,116)\",\"rgb(100,181,205)\"],\"font\":{\"color\":\"rgb(36,36,36)\"},\"geo\":{\"bgcolor\":\"white\",\"lakecolor\":\"white\",\"landcolor\":\"rgb(234,234,242)\",\"showlakes\":true,\"showland\":true,\"subunitcolor\":\"white\"},\"hoverlabel\":{\"align\":\"left\"},\"hovermode\":\"closest\",\"paper_bgcolor\":\"white\",\"plot_bgcolor\":\"rgb(234,234,242)\",\"polar\":{\"angularaxis\":{\"gridcolor\":\"white\",\"linecolor\":\"white\",\"showgrid\":true,\"ticks\":\"\"},\"bgcolor\":\"rgb(234,234,242)\",\"radialaxis\":{\"gridcolor\":\"white\",\"linecolor\":\"white\",\"showgrid\":true,\"ticks\":\"\"}},\"scene\":{\"xaxis\":{\"backgroundcolor\":\"rgb(234,234,242)\",\"gridcolor\":\"white\",\"gridwidth\":2,\"linecolor\":\"white\",\"showbackground\":true,\"showgrid\":true,\"ticks\":\"\",\"zerolinecolor\":\"white\"},\"yaxis\":{\"backgroundcolor\":\"rgb(234,234,242)\",\"gridcolor\":\"white\",\"gridwidth\":2,\"linecolor\":\"white\",\"showbackground\":true,\"showgrid\":true,\"ticks\":\"\",\"zerolinecolor\":\"white\"},\"zaxis\":{\"backgroundcolor\":\"rgb(234,234,242)\",\"gridcolor\":\"white\",\"gridwidth\":2,\"linecolor\":\"white\",\"showbackground\":true,\"showgrid\":true,\"ticks\":\"\",\"zerolinecolor\":\"white\"}},\"shapedefaults\":{\"fillcolor\":\"rgb(67,103,167)\",\"line\":{\"width\":0},\"opacity\":0.5},\"ternary\":{\"aaxis\":{\"gridcolor\":\"white\",\"linecolor\":\"white\",\"showgrid\":true,\"ticks\":\"\"},\"baxis\":{\"gridcolor\":\"white\",\"linecolor\":\"white\",\"showgrid\":true,\"ticks\":\"\"},\"bgcolor\":\"rgb(234,234,242)\",\"caxis\":{\"gridcolor\":\"white\",\"linecolor\":\"white\",\"showgrid\":true,\"ticks\":\"\"}},\"xaxis\":{\"automargin\":true,\"gridcolor\":\"white\",\"linecolor\":\"white\",\"showgrid\":true,\"ticks\":\"\",\"title\":{\"standoff\":15},\"zerolinecolor\":\"white\"},\"yaxis\":{\"automargin\":true,\"gridcolor\":\"white\",\"linecolor\":\"white\",\"showgrid\":true,\"ticks\":\"\",\"title\":{\"standoff\":15},\"zerolinecolor\":\"white\"}}},\"xaxis\":{\"anchor\":\"y\",\"domain\":[0.0,0.578125],\"tickson\":\"boundaries\",\"showgrid\":true,\"showticklabels\":false,\"range\":[-0.5,36.5]},\"yaxis\":{\"anchor\":\"x\",\"domain\":[0.0,1.0],\"tickson\":\"boundaries\",\"showgrid\":true,\"gridwidth\":1,\"showticklabels\":true},\"xaxis2\":{\"anchor\":\"y2\",\"domain\":[0.609375,0.875],\"tickson\":\"boundaries\",\"showgrid\":true,\"showticklabels\":false,\"range\":[-0.5,16.5]},\"yaxis2\":{\"anchor\":\"x2\",\"domain\":[0.0,1.0],\"matches\":\"y\",\"showticklabels\":false,\"tickson\":\"boundaries\",\"showgrid\":true,\"gridwidth\":1},\"xaxis3\":{\"anchor\":\"y3\",\"domain\":[0.90625,1.0],\"tickson\":\"boundaries\",\"showgrid\":true,\"showticklabels\":false,\"range\":[-0.5,5.5]},\"yaxis3\":{\"anchor\":\"x3\",\"domain\":[0.0,1.0],\"matches\":\"y\",\"showticklabels\":false,\"tickson\":\"boundaries\",\"showgrid\":true,\"gridwidth\":1},\"title\":{\"text\":\"Hallucination Types Count\",\"x\":0.5},\"annotations\":[{\"showarrow\":false,\"text\":\"Text\",\"x\":10.5,\"xanchor\":\"center\",\"xref\":\"x\",\"y\":-0.07,\"yref\":\"paper\"},{\"showarrow\":false,\"text\":\"Table\",\"x\":22.5,\"xanchor\":\"center\",\"xref\":\"x\",\"y\":-0.07,\"yref\":\"paper\"},{\"showarrow\":false,\"text\":\"Image\",\"x\":24.0,\"xanchor\":\"center\",\"xref\":\"x\",\"y\":-0.07,\"yref\":\"paper\"},{\"showarrow\":false,\"text\":\"Recommendation\",\"x\":30.5,\"xanchor\":\"center\",\"xref\":\"x\",\"y\":-0.07,\"yref\":\"paper\"},{\"showarrow\":false,\"text\":\"Synonym\",\"x\":0.0,\"xanchor\":\"center\",\"xref\":\"x2\",\"y\":-0.07,\"yref\":\"paper\"},{\"showarrow\":false,\"text\":\"Multiple sections\",\"x\":6.5,\"xanchor\":\"center\",\"xref\":\"x2\",\"y\":-0.07,\"yref\":\"paper\"},{\"showarrow\":false,\"text\":\"Multiple guidelines\",\"x\":13.0,\"xanchor\":\"center\",\"xref\":\"x2\",\"y\":-0.07,\"yref\":\"paper\"},{\"showarrow\":false,\"text\":\"Substeps\",\"x\":15.0,\"xanchor\":\"center\",\"xref\":\"x2\",\"y\":-0.07,\"yref\":\"paper\"},{\"showarrow\":false,\"text\":\"Outside guidelines\",\"x\":0.5,\"xanchor\":\"center\",\"xref\":\"x3\",\"y\":-0.07,\"yref\":\"paper\"},{\"showarrow\":false,\"text\":\"False assumption\",\"x\":3.5,\"xanchor\":\"center\",\"xref\":\"x3\",\"y\":-0.07,\"yref\":\"paper\"},{\"font\":{\"size\":14},\"showarrow\":false,\"text\":\"Subcategories (with one cell per assigned question)\",\"x\":0.5,\"xref\":\"paper\",\"y\":-0.2,\"yref\":\"paper\"},{\"font\":{\"color\":\"#333\",\"size\":14},\"showarrow\":false,\"text\":\"... for simple questions\",\"x\":0.2890625,\"xanchor\":\"center\",\"xref\":\"paper\",\"y\":1.08,\"yref\":\"paper\"},{\"font\":{\"color\":\"#333\",\"size\":14},\"showarrow\":false,\"text\":\"... for complex questions\",\"x\":0.7421875,\"xanchor\":\"center\",\"xref\":\"paper\",\"y\":1.08,\"yref\":\"paper\"},{\"font\":{\"color\":\"#333\",\"size\":14},\"showarrow\":false,\"text\":\"... for negative questions\",\"x\":0.953125,\"xanchor\":\"center\",\"xref\":\"paper\",\"y\":1.08,\"yref\":\"paper\"}],\"shapes\":[{\"line\":{\"color\":\"black\",\"width\":1},\"type\":\"line\",\"x0\":21.5,\"x1\":21.5,\"xref\":\"x\",\"y0\":-0.5,\"y1\":2.5,\"yref\":\"y\"},{\"line\":{\"color\":\"black\",\"width\":1},\"type\":\"line\",\"x0\":23.5,\"x1\":23.5,\"xref\":\"x\",\"y0\":-0.5,\"y1\":2.5,\"yref\":\"y\"},{\"line\":{\"color\":\"black\",\"width\":1},\"type\":\"line\",\"x0\":24.5,\"x1\":24.5,\"xref\":\"x\",\"y0\":-0.5,\"y1\":2.5,\"yref\":\"y\"},{\"line\":{\"color\":\"black\",\"width\":1},\"type\":\"line\",\"x0\":0.5,\"x1\":0.5,\"xref\":\"x2\",\"y0\":-0.5,\"y1\":2.5,\"yref\":\"y2\"},{\"line\":{\"color\":\"black\",\"width\":1},\"type\":\"line\",\"x0\":12.5,\"x1\":12.5,\"xref\":\"x2\",\"y0\":-0.5,\"y1\":2.5,\"yref\":\"y2\"},{\"line\":{\"color\":\"black\",\"width\":1},\"type\":\"line\",\"x0\":13.5,\"x1\":13.5,\"xref\":\"x2\",\"y0\":-0.5,\"y1\":2.5,\"yref\":\"y2\"},{\"line\":{\"color\":\"black\",\"width\":1},\"type\":\"line\",\"x0\":1.5,\"x1\":1.5,\"xref\":\"x3\",\"y0\":-0.5,\"y1\":2.5,\"yref\":\"y3\"},{\"fillcolor\":\"rgba(0,0,0,0)\",\"layer\":\"above\",\"line\":{\"color\":\"lightgray\",\"width\":1.5},\"type\":\"rect\",\"x0\":-1,\"x1\":38,\"xref\":\"x\",\"y0\":-0.5,\"y1\":2.5,\"yref\":\"y\"},{\"fillcolor\":\"rgba(0,0,0,0)\",\"layer\":\"above\",\"line\":{\"color\":\"lightgray\",\"width\":1.5},\"type\":\"rect\",\"x0\":-1,\"x1\":18,\"xref\":\"x2\",\"y0\":-0.5,\"y1\":2.5,\"yref\":\"y2\"},{\"fillcolor\":\"rgba(0,0,0,0)\",\"layer\":\"above\",\"line\":{\"color\":\"lightgray\",\"width\":1.5},\"type\":\"rect\",\"x0\":-1,\"x1\":7,\"xref\":\"x3\",\"y0\":-0.5,\"y1\":2.5,\"yref\":\"y3\"}],\"width\":1500,\"height\":500},                        {\"responsive\": true}                    ).then(function(){\n",
       "                            \n",
       "var gd = document.getElementById('763e9fe6-3ecb-4d36-8014-68da82de0a1e');\n",
       "var x = new MutationObserver(function (mutations, observer) {{\n",
       "        var display = window.getComputedStyle(gd).display;\n",
       "        if (!display || display === 'none') {{\n",
       "            console.log([gd, 'removed!']);\n",
       "            Plotly.purge(gd);\n",
       "            observer.disconnect();\n",
       "        }}\n",
       "}});\n",
       "\n",
       "// Listen for the removal of the full notebook cells\n",
       "var notebookContainer = gd.closest('#notebook-container');\n",
       "if (notebookContainer) {{\n",
       "    x.observe(notebookContainer, {childList: true});\n",
       "}}\n",
       "\n",
       "// Listen for the clearing of the current output cell\n",
       "var outputEl = gd.closest('.output');\n",
       "if (outputEl) {{\n",
       "    x.observe(outputEl, {childList: true});\n",
       "}}\n",
       "\n",
       "                        })                };                });            </script>        </div>"
      ]
     },
     "metadata": {},
     "output_type": "display_data"
    }
   ],
   "source": [
    "azure_generator_only_wf_system: WorkflowSystem = init_stored_wf_system(dbi, azure_generator_only_config, BACKEND_API_URL)\n",
    "list_hallucinations = get_sum_hallucinations_per_question(azure_generator_only_wf_system)\n",
    "avg_count_hallucinations_per_question = sum(list_hallucinations) / sum(1 for item in list_hallucinations if item is not None)\n",
    "df__hallucinations, img__hallucinations = analyze_and_visualize_hallucinations(azure_generator_only_wf_system)\n",
    "img__hallucinations.update_layout(width=2*screen_width, height=screen_height)\n",
    "\n",
    "print(f\"Overall hallucinations per question: {avg_count_hallucinations_per_question:.2f}\")\n",
    "\n",
    "img__hallucinations"
   ]
  },
  {
   "attachments": {},
   "cell_type": "markdown",
   "id": "a3ad1e4e",
   "metadata": {},
   "source": [
    "### Storing\n",
    "Can alternatively also save the images and numbers."
   ]
  },
  {
   "cell_type": "code",
   "execution_count": 22,
   "id": "7003d4ea",
   "metadata": {},
   "outputs": [],
   "source": [
    "os.makedirs(os.path.dirname(statistics_doc), exist_ok=True)\n",
    "with open(statistics_doc, \"w\", encoding=\"utf-8\") as statistics_file:\n",
    "    # Response latency\n",
    "    statistics_file.write(f\"\\n\\nAverage response latency across all questions: {avg_response_time:.2f} s\\n\")\n",
    "    for supercat in all_supercategories:\n",
    "        entry = df__response_time[\n",
    "            df__response_time['subcategory'].isna() &\n",
    "            (df__response_time['supercategory'] == supercat.value)\n",
    "        ]['avg_response_latency']\n",
    "        if len(entry) == 0:\n",
    "            statistics_file.write(f\"No response latency for {supercat.value} questions\\n\")\n",
    "        else:\n",
    "            statistics_file.write(f\"Response latency for {supercat.value} questions: {entry.iloc[0]:.2f} s\\n\")\n",
    "\n",
    "    # Correctness score\n",
    "    statistics_file.write(f\"\\n\\nAverage correctness score across all questions: {avg_correctness:.2f}\\n\")\n",
    "    for supercat in all_supercategories:\n",
    "        entry = df__correcntess[\n",
    "            df__correcntess['subcategory'].isna() &\n",
    "            (df__correcntess['supercategory'] == supercat.value)\n",
    "        ]['avg_correctness_score']\n",
    "        if entry.empty or pd.isna(entry.iloc[0]):\n",
    "            statistics_file.write(f\"No correctness scores for {supercat.value} questions\\n\")\n",
    "        else:\n",
    "            statistics_file.write(f\"Correctness score for {supercat.value} questions: {entry.iloc[0]:.2f}\\n\")\n",
    "\n",
    "    # Hallucinations\n",
    "    statistics_file.write(f\"\\n\\nAverage hallucination count per question: {avg_count_hallucinations_per_question:.2f}\\n\")\n",
    "    \n",
    "img__response_time.write_image(response_time_img, width=screen_width, height=screen_height)\n",
    "img__correctness.write_image(correctness_score_img, width=screen_width, height=screen_height)\n",
    "img__hallucinations.write_image(hallucinations_img, width=2.5 * screen_width, height=screen_height)"
   ]
  },
  {
   "cell_type": "markdown",
   "id": "d64f95e81895e863",
   "metadata": {},
   "source": [
    "## Shutdown"
   ]
  },
  {
   "cell_type": "code",
   "execution_count": 23,
   "id": "6391f3d24dd0b309",
   "metadata": {},
   "outputs": [],
   "source": [
    "dbi.close()"
   ]
  }
 ],
 "metadata": {
  "kernelspec": {
   "display_name": "Python 3 (ipykernel)",
   "language": "python",
   "name": "python3"
  },
  "language_info": {
   "codemirror_mode": {
    "name": "ipython",
    "version": 3
   },
   "file_extension": ".py",
   "mimetype": "text/x-python",
   "name": "python",
   "nbconvert_exporter": "python",
   "pygments_lexer": "ipython3",
   "version": "3.10.16"
  }
 },
 "nbformat": 4,
 "nbformat_minor": 5
}
